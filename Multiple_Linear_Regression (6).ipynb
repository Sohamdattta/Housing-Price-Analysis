{
  "nbformat": 4,
  "nbformat_minor": 0,
  "metadata": {
    "kernelspec": {
      "display_name": "Python 3",
      "language": "python",
      "name": "python3"
    },
    "language_info": {
      "codemirror_mode": {
        "name": "ipython",
        "version": 3
      },
      "file_extension": ".py",
      "mimetype": "text/x-python",
      "name": "python",
      "nbconvert_exporter": "python",
      "pygments_lexer": "ipython3",
      "version": "3.8.5"
    },
    "colab": {
      "name": "Multiple Linear Regression.ipynb",
      "provenance": [],
      "collapsed_sections": []
    }
  },
  "cells": [
    {
      "cell_type": "code",
      "metadata": {
        "id": "_dUFca50uQQT"
      },
      "source": [
        "# import numpy and pandas\n",
        "import numpy as np\n",
        "import pandas as pd\n"
      ],
      "execution_count": null,
      "outputs": []
    },
    {
      "cell_type": "code",
      "metadata": {
        "id": "KjhfdV7XuQQU"
      },
      "source": [
        "# Importing Housing.csv\n",
        "housing=pd.read_csv('/content/Housing.csv')\n"
      ],
      "execution_count": null,
      "outputs": []
    },
    {
      "cell_type": "code",
      "metadata": {
        "colab": {
          "base_uri": "https://localhost:8080/",
          "height": 226
        },
        "id": "M3BHkcksuQQV",
        "outputId": "37173605-7c4a-4860-ae04-32ad64d36ca7"
      },
      "source": [
        "# Looking at the first five rows\n",
        "housing.head()\n"
      ],
      "execution_count": null,
      "outputs": [
        {
          "output_type": "execute_result",
          "data": {
            "text/html": [
              "<div>\n",
              "<style scoped>\n",
              "    .dataframe tbody tr th:only-of-type {\n",
              "        vertical-align: middle;\n",
              "    }\n",
              "\n",
              "    .dataframe tbody tr th {\n",
              "        vertical-align: top;\n",
              "    }\n",
              "\n",
              "    .dataframe thead th {\n",
              "        text-align: right;\n",
              "    }\n",
              "</style>\n",
              "<table border=\"1\" class=\"dataframe\">\n",
              "  <thead>\n",
              "    <tr style=\"text-align: right;\">\n",
              "      <th></th>\n",
              "      <th>price</th>\n",
              "      <th>area</th>\n",
              "      <th>bedrooms</th>\n",
              "      <th>bathrooms</th>\n",
              "      <th>stories</th>\n",
              "      <th>mainroad</th>\n",
              "      <th>guestroom</th>\n",
              "      <th>basement</th>\n",
              "      <th>hotwaterheating</th>\n",
              "      <th>airconditioning</th>\n",
              "      <th>parking</th>\n",
              "      <th>prefarea</th>\n",
              "      <th>furnishingstatus</th>\n",
              "    </tr>\n",
              "  </thead>\n",
              "  <tbody>\n",
              "    <tr>\n",
              "      <th>0</th>\n",
              "      <td>13300000</td>\n",
              "      <td>7420</td>\n",
              "      <td>4</td>\n",
              "      <td>2</td>\n",
              "      <td>3</td>\n",
              "      <td>yes</td>\n",
              "      <td>no</td>\n",
              "      <td>no</td>\n",
              "      <td>no</td>\n",
              "      <td>yes</td>\n",
              "      <td>2</td>\n",
              "      <td>yes</td>\n",
              "      <td>furnished</td>\n",
              "    </tr>\n",
              "    <tr>\n",
              "      <th>1</th>\n",
              "      <td>12250000</td>\n",
              "      <td>8960</td>\n",
              "      <td>4</td>\n",
              "      <td>4</td>\n",
              "      <td>4</td>\n",
              "      <td>yes</td>\n",
              "      <td>no</td>\n",
              "      <td>no</td>\n",
              "      <td>no</td>\n",
              "      <td>yes</td>\n",
              "      <td>3</td>\n",
              "      <td>no</td>\n",
              "      <td>furnished</td>\n",
              "    </tr>\n",
              "    <tr>\n",
              "      <th>2</th>\n",
              "      <td>12250000</td>\n",
              "      <td>9960</td>\n",
              "      <td>3</td>\n",
              "      <td>2</td>\n",
              "      <td>2</td>\n",
              "      <td>yes</td>\n",
              "      <td>no</td>\n",
              "      <td>yes</td>\n",
              "      <td>no</td>\n",
              "      <td>no</td>\n",
              "      <td>2</td>\n",
              "      <td>yes</td>\n",
              "      <td>semi-furnished</td>\n",
              "    </tr>\n",
              "    <tr>\n",
              "      <th>3</th>\n",
              "      <td>12215000</td>\n",
              "      <td>7500</td>\n",
              "      <td>4</td>\n",
              "      <td>2</td>\n",
              "      <td>2</td>\n",
              "      <td>yes</td>\n",
              "      <td>no</td>\n",
              "      <td>yes</td>\n",
              "      <td>no</td>\n",
              "      <td>yes</td>\n",
              "      <td>3</td>\n",
              "      <td>yes</td>\n",
              "      <td>furnished</td>\n",
              "    </tr>\n",
              "    <tr>\n",
              "      <th>4</th>\n",
              "      <td>11410000</td>\n",
              "      <td>7420</td>\n",
              "      <td>4</td>\n",
              "      <td>1</td>\n",
              "      <td>2</td>\n",
              "      <td>yes</td>\n",
              "      <td>yes</td>\n",
              "      <td>yes</td>\n",
              "      <td>no</td>\n",
              "      <td>yes</td>\n",
              "      <td>2</td>\n",
              "      <td>no</td>\n",
              "      <td>furnished</td>\n",
              "    </tr>\n",
              "  </tbody>\n",
              "</table>\n",
              "</div>"
            ],
            "text/plain": [
              "      price  area  bedrooms  ...  parking  prefarea furnishingstatus\n",
              "0  13300000  7420         4  ...        2       yes        furnished\n",
              "1  12250000  8960         4  ...        3        no        furnished\n",
              "2  12250000  9960         3  ...        2       yes   semi-furnished\n",
              "3  12215000  7500         4  ...        3       yes        furnished\n",
              "4  11410000  7420         4  ...        2        no        furnished\n",
              "\n",
              "[5 rows x 13 columns]"
            ]
          },
          "metadata": {},
          "execution_count": 3
        }
      ]
    },
    {
      "cell_type": "code",
      "metadata": {
        "colab": {
          "base_uri": "https://localhost:8080/"
        },
        "id": "LqnyEF4HuQQW",
        "outputId": "32b5037b-0ac5-48ad-eb7a-b3e0cee57c97"
      },
      "source": [
        "# What type of values are stored in the columns?\n",
        "housing.info()\n"
      ],
      "execution_count": null,
      "outputs": [
        {
          "output_type": "stream",
          "name": "stdout",
          "text": [
            "<class 'pandas.core.frame.DataFrame'>\n",
            "RangeIndex: 545 entries, 0 to 544\n",
            "Data columns (total 13 columns):\n",
            " #   Column            Non-Null Count  Dtype \n",
            "---  ------            --------------  ----- \n",
            " 0   price             545 non-null    int64 \n",
            " 1   area              545 non-null    int64 \n",
            " 2   bedrooms          545 non-null    int64 \n",
            " 3   bathrooms         545 non-null    int64 \n",
            " 4   stories           545 non-null    int64 \n",
            " 5   mainroad          545 non-null    object\n",
            " 6   guestroom         545 non-null    object\n",
            " 7   basement          545 non-null    object\n",
            " 8   hotwaterheating   545 non-null    object\n",
            " 9   airconditioning   545 non-null    object\n",
            " 10  parking           545 non-null    int64 \n",
            " 11  prefarea          545 non-null    object\n",
            " 12  furnishingstatus  545 non-null    object\n",
            "dtypes: int64(6), object(7)\n",
            "memory usage: 55.5+ KB\n"
          ]
        }
      ]
    },
    {
      "cell_type": "code",
      "metadata": {
        "id": "75ABQs21uQQZ"
      },
      "source": [
        "# Converting Yes to 1 and No to 0 using map function\n",
        "\n",
        "housing['mainroad'] = housing['mainroad'].map({'yes':1 ,'no':0})\n",
        "housing['guestroom'] = housing['guestroom'].map({'yes':1 ,'no':0})\n",
        "housing['basement'] = housing['basement'].map({'yes':1 ,'no':0})\n",
        "housing['hotwaterheating'] = housing['hotwaterheating'].map({'yes':1 ,'no':0})\n",
        "housing['airconditioning'] = housing['airconditioning'].map({'yes':1 ,'no':0})\n",
        "housing['prefarea'] = housing['prefarea'].map({'yes':1 ,'no':0})"
      ],
      "execution_count": null,
      "outputs": []
    },
    {
      "cell_type": "code",
      "metadata": {
        "colab": {
          "base_uri": "https://localhost:8080/",
          "height": 226
        },
        "id": "XpyuhLFsuQQa",
        "outputId": "6fb30fb8-b41b-43f9-8fc9-ea39380f3d01"
      },
      "source": [
        "# Now let's see the head\n",
        "housing.head()\n"
      ],
      "execution_count": null,
      "outputs": [
        {
          "output_type": "execute_result",
          "data": {
            "text/html": [
              "<div>\n",
              "<style scoped>\n",
              "    .dataframe tbody tr th:only-of-type {\n",
              "        vertical-align: middle;\n",
              "    }\n",
              "\n",
              "    .dataframe tbody tr th {\n",
              "        vertical-align: top;\n",
              "    }\n",
              "\n",
              "    .dataframe thead th {\n",
              "        text-align: right;\n",
              "    }\n",
              "</style>\n",
              "<table border=\"1\" class=\"dataframe\">\n",
              "  <thead>\n",
              "    <tr style=\"text-align: right;\">\n",
              "      <th></th>\n",
              "      <th>price</th>\n",
              "      <th>area</th>\n",
              "      <th>bedrooms</th>\n",
              "      <th>bathrooms</th>\n",
              "      <th>stories</th>\n",
              "      <th>mainroad</th>\n",
              "      <th>guestroom</th>\n",
              "      <th>basement</th>\n",
              "      <th>hotwaterheating</th>\n",
              "      <th>airconditioning</th>\n",
              "      <th>parking</th>\n",
              "      <th>prefarea</th>\n",
              "      <th>furnishingstatus</th>\n",
              "    </tr>\n",
              "  </thead>\n",
              "  <tbody>\n",
              "    <tr>\n",
              "      <th>0</th>\n",
              "      <td>13300000</td>\n",
              "      <td>7420</td>\n",
              "      <td>4</td>\n",
              "      <td>2</td>\n",
              "      <td>3</td>\n",
              "      <td>1</td>\n",
              "      <td>0</td>\n",
              "      <td>0</td>\n",
              "      <td>0</td>\n",
              "      <td>1</td>\n",
              "      <td>2</td>\n",
              "      <td>1</td>\n",
              "      <td>furnished</td>\n",
              "    </tr>\n",
              "    <tr>\n",
              "      <th>1</th>\n",
              "      <td>12250000</td>\n",
              "      <td>8960</td>\n",
              "      <td>4</td>\n",
              "      <td>4</td>\n",
              "      <td>4</td>\n",
              "      <td>1</td>\n",
              "      <td>0</td>\n",
              "      <td>0</td>\n",
              "      <td>0</td>\n",
              "      <td>1</td>\n",
              "      <td>3</td>\n",
              "      <td>0</td>\n",
              "      <td>furnished</td>\n",
              "    </tr>\n",
              "    <tr>\n",
              "      <th>2</th>\n",
              "      <td>12250000</td>\n",
              "      <td>9960</td>\n",
              "      <td>3</td>\n",
              "      <td>2</td>\n",
              "      <td>2</td>\n",
              "      <td>1</td>\n",
              "      <td>0</td>\n",
              "      <td>1</td>\n",
              "      <td>0</td>\n",
              "      <td>0</td>\n",
              "      <td>2</td>\n",
              "      <td>1</td>\n",
              "      <td>semi-furnished</td>\n",
              "    </tr>\n",
              "    <tr>\n",
              "      <th>3</th>\n",
              "      <td>12215000</td>\n",
              "      <td>7500</td>\n",
              "      <td>4</td>\n",
              "      <td>2</td>\n",
              "      <td>2</td>\n",
              "      <td>1</td>\n",
              "      <td>0</td>\n",
              "      <td>1</td>\n",
              "      <td>0</td>\n",
              "      <td>1</td>\n",
              "      <td>3</td>\n",
              "      <td>1</td>\n",
              "      <td>furnished</td>\n",
              "    </tr>\n",
              "    <tr>\n",
              "      <th>4</th>\n",
              "      <td>11410000</td>\n",
              "      <td>7420</td>\n",
              "      <td>4</td>\n",
              "      <td>1</td>\n",
              "      <td>2</td>\n",
              "      <td>1</td>\n",
              "      <td>1</td>\n",
              "      <td>1</td>\n",
              "      <td>0</td>\n",
              "      <td>1</td>\n",
              "      <td>2</td>\n",
              "      <td>0</td>\n",
              "      <td>furnished</td>\n",
              "    </tr>\n",
              "  </tbody>\n",
              "</table>\n",
              "</div>"
            ],
            "text/plain": [
              "      price  area  bedrooms  ...  parking  prefarea  furnishingstatus\n",
              "0  13300000  7420         4  ...        2         1         furnished\n",
              "1  12250000  8960         4  ...        3         0         furnished\n",
              "2  12250000  9960         3  ...        2         1    semi-furnished\n",
              "3  12215000  7500         4  ...        3         1         furnished\n",
              "4  11410000  7420         4  ...        2         0         furnished\n",
              "\n",
              "[5 rows x 13 columns]"
            ]
          },
          "metadata": {},
          "execution_count": 6
        }
      ]
    },
    {
      "cell_type": "code",
      "metadata": {
        "id": "D9qaT_-fuQQa"
      },
      "source": [
        "# Creating a dummy variable for 'furnishingstatus' or you can say we want to do one-hot encoding on it.\n",
        "status=pd.get_dummies(housing['furnishingstatus'])\n"
      ],
      "execution_count": null,
      "outputs": []
    },
    {
      "cell_type": "code",
      "metadata": {
        "colab": {
          "base_uri": "https://localhost:8080/",
          "height": 206
        },
        "id": "JpNVDNIquQQb",
        "outputId": "bc31a176-ccd1-4726-c137-43835659f6d6"
      },
      "source": [
        "# The result has created three variables that are not needed.\n",
        "status.head()"
      ],
      "execution_count": null,
      "outputs": [
        {
          "output_type": "execute_result",
          "data": {
            "text/html": [
              "<div>\n",
              "<style scoped>\n",
              "    .dataframe tbody tr th:only-of-type {\n",
              "        vertical-align: middle;\n",
              "    }\n",
              "\n",
              "    .dataframe tbody tr th {\n",
              "        vertical-align: top;\n",
              "    }\n",
              "\n",
              "    .dataframe thead th {\n",
              "        text-align: right;\n",
              "    }\n",
              "</style>\n",
              "<table border=\"1\" class=\"dataframe\">\n",
              "  <thead>\n",
              "    <tr style=\"text-align: right;\">\n",
              "      <th></th>\n",
              "      <th>furnished</th>\n",
              "      <th>semi-furnished</th>\n",
              "      <th>unfurnished</th>\n",
              "    </tr>\n",
              "  </thead>\n",
              "  <tbody>\n",
              "    <tr>\n",
              "      <th>0</th>\n",
              "      <td>1</td>\n",
              "      <td>0</td>\n",
              "      <td>0</td>\n",
              "    </tr>\n",
              "    <tr>\n",
              "      <th>1</th>\n",
              "      <td>1</td>\n",
              "      <td>0</td>\n",
              "      <td>0</td>\n",
              "    </tr>\n",
              "    <tr>\n",
              "      <th>2</th>\n",
              "      <td>0</td>\n",
              "      <td>1</td>\n",
              "      <td>0</td>\n",
              "    </tr>\n",
              "    <tr>\n",
              "      <th>3</th>\n",
              "      <td>1</td>\n",
              "      <td>0</td>\n",
              "      <td>0</td>\n",
              "    </tr>\n",
              "    <tr>\n",
              "      <th>4</th>\n",
              "      <td>1</td>\n",
              "      <td>0</td>\n",
              "      <td>0</td>\n",
              "    </tr>\n",
              "  </tbody>\n",
              "</table>\n",
              "</div>"
            ],
            "text/plain": [
              "   furnished  semi-furnished  unfurnished\n",
              "0          1               0            0\n",
              "1          1               0            0\n",
              "2          0               1            0\n",
              "3          1               0            0\n",
              "4          1               0            0"
            ]
          },
          "metadata": {},
          "execution_count": 8
        }
      ]
    },
    {
      "cell_type": "code",
      "metadata": {
        "id": "cu7rsIlNuQQb"
      },
      "source": [
        "# we don't need 3 columns.\n",
        "# we can use drop_first = True to drop the first column from status dataframe.\n",
        "status = status.drop(['furnished'],axis=1)\n"
      ],
      "execution_count": null,
      "outputs": []
    },
    {
      "cell_type": "code",
      "metadata": {
        "colab": {
          "base_uri": "https://localhost:8080/",
          "height": 423
        },
        "id": "r7Ok3VG6uQQb",
        "outputId": "d47777f0-199c-4f7a-ae69-fca4daf4c040"
      },
      "source": [
        "#print status\n",
        "status"
      ],
      "execution_count": null,
      "outputs": [
        {
          "output_type": "execute_result",
          "data": {
            "text/html": [
              "<div>\n",
              "<style scoped>\n",
              "    .dataframe tbody tr th:only-of-type {\n",
              "        vertical-align: middle;\n",
              "    }\n",
              "\n",
              "    .dataframe tbody tr th {\n",
              "        vertical-align: top;\n",
              "    }\n",
              "\n",
              "    .dataframe thead th {\n",
              "        text-align: right;\n",
              "    }\n",
              "</style>\n",
              "<table border=\"1\" class=\"dataframe\">\n",
              "  <thead>\n",
              "    <tr style=\"text-align: right;\">\n",
              "      <th></th>\n",
              "      <th>semi-furnished</th>\n",
              "      <th>unfurnished</th>\n",
              "    </tr>\n",
              "  </thead>\n",
              "  <tbody>\n",
              "    <tr>\n",
              "      <th>0</th>\n",
              "      <td>0</td>\n",
              "      <td>0</td>\n",
              "    </tr>\n",
              "    <tr>\n",
              "      <th>1</th>\n",
              "      <td>0</td>\n",
              "      <td>0</td>\n",
              "    </tr>\n",
              "    <tr>\n",
              "      <th>2</th>\n",
              "      <td>1</td>\n",
              "      <td>0</td>\n",
              "    </tr>\n",
              "    <tr>\n",
              "      <th>3</th>\n",
              "      <td>0</td>\n",
              "      <td>0</td>\n",
              "    </tr>\n",
              "    <tr>\n",
              "      <th>4</th>\n",
              "      <td>0</td>\n",
              "      <td>0</td>\n",
              "    </tr>\n",
              "    <tr>\n",
              "      <th>...</th>\n",
              "      <td>...</td>\n",
              "      <td>...</td>\n",
              "    </tr>\n",
              "    <tr>\n",
              "      <th>540</th>\n",
              "      <td>0</td>\n",
              "      <td>1</td>\n",
              "    </tr>\n",
              "    <tr>\n",
              "      <th>541</th>\n",
              "      <td>1</td>\n",
              "      <td>0</td>\n",
              "    </tr>\n",
              "    <tr>\n",
              "      <th>542</th>\n",
              "      <td>0</td>\n",
              "      <td>1</td>\n",
              "    </tr>\n",
              "    <tr>\n",
              "      <th>543</th>\n",
              "      <td>0</td>\n",
              "      <td>0</td>\n",
              "    </tr>\n",
              "    <tr>\n",
              "      <th>544</th>\n",
              "      <td>0</td>\n",
              "      <td>1</td>\n",
              "    </tr>\n",
              "  </tbody>\n",
              "</table>\n",
              "<p>545 rows × 2 columns</p>\n",
              "</div>"
            ],
            "text/plain": [
              "     semi-furnished  unfurnished\n",
              "0                 0            0\n",
              "1                 0            0\n",
              "2                 1            0\n",
              "3                 0            0\n",
              "4                 0            0\n",
              "..              ...          ...\n",
              "540               0            1\n",
              "541               1            0\n",
              "542               0            1\n",
              "543               0            0\n",
              "544               0            1\n",
              "\n",
              "[545 rows x 2 columns]"
            ]
          },
          "metadata": {},
          "execution_count": 10
        }
      ]
    },
    {
      "cell_type": "code",
      "metadata": {
        "id": "-SB43rRZuQQc"
      },
      "source": [
        "#Adding the results to the master dataframe i.e housing\n",
        "frames=[housing,status]\n",
        "housing=pd.concat(frames,axis=1)"
      ],
      "execution_count": null,
      "outputs": []
    },
    {
      "cell_type": "code",
      "metadata": {
        "id": "PfeZ9WX-uQQc"
      },
      "source": [
        "# Dropping furnishingstatus from housing data as we have created the dummies for it\n",
        "housing=housing.drop(['furnishingstatus'],axis=1)"
      ],
      "execution_count": null,
      "outputs": []
    },
    {
      "cell_type": "code",
      "metadata": {
        "colab": {
          "base_uri": "https://localhost:8080/",
          "height": 243
        },
        "id": "cvF2VEKIuQQc",
        "outputId": "32589218-9011-473d-8172-ca44c6df5648"
      },
      "source": [
        "# Now let's see the head of our dataframe.\n",
        "housing.head()"
      ],
      "execution_count": null,
      "outputs": [
        {
          "output_type": "execute_result",
          "data": {
            "text/html": [
              "<div>\n",
              "<style scoped>\n",
              "    .dataframe tbody tr th:only-of-type {\n",
              "        vertical-align: middle;\n",
              "    }\n",
              "\n",
              "    .dataframe tbody tr th {\n",
              "        vertical-align: top;\n",
              "    }\n",
              "\n",
              "    .dataframe thead th {\n",
              "        text-align: right;\n",
              "    }\n",
              "</style>\n",
              "<table border=\"1\" class=\"dataframe\">\n",
              "  <thead>\n",
              "    <tr style=\"text-align: right;\">\n",
              "      <th></th>\n",
              "      <th>price</th>\n",
              "      <th>area</th>\n",
              "      <th>bedrooms</th>\n",
              "      <th>bathrooms</th>\n",
              "      <th>stories</th>\n",
              "      <th>mainroad</th>\n",
              "      <th>guestroom</th>\n",
              "      <th>basement</th>\n",
              "      <th>hotwaterheating</th>\n",
              "      <th>airconditioning</th>\n",
              "      <th>parking</th>\n",
              "      <th>prefarea</th>\n",
              "      <th>semi-furnished</th>\n",
              "      <th>unfurnished</th>\n",
              "    </tr>\n",
              "  </thead>\n",
              "  <tbody>\n",
              "    <tr>\n",
              "      <th>0</th>\n",
              "      <td>13300000</td>\n",
              "      <td>7420</td>\n",
              "      <td>4</td>\n",
              "      <td>2</td>\n",
              "      <td>3</td>\n",
              "      <td>1</td>\n",
              "      <td>0</td>\n",
              "      <td>0</td>\n",
              "      <td>0</td>\n",
              "      <td>1</td>\n",
              "      <td>2</td>\n",
              "      <td>1</td>\n",
              "      <td>0</td>\n",
              "      <td>0</td>\n",
              "    </tr>\n",
              "    <tr>\n",
              "      <th>1</th>\n",
              "      <td>12250000</td>\n",
              "      <td>8960</td>\n",
              "      <td>4</td>\n",
              "      <td>4</td>\n",
              "      <td>4</td>\n",
              "      <td>1</td>\n",
              "      <td>0</td>\n",
              "      <td>0</td>\n",
              "      <td>0</td>\n",
              "      <td>1</td>\n",
              "      <td>3</td>\n",
              "      <td>0</td>\n",
              "      <td>0</td>\n",
              "      <td>0</td>\n",
              "    </tr>\n",
              "    <tr>\n",
              "      <th>2</th>\n",
              "      <td>12250000</td>\n",
              "      <td>9960</td>\n",
              "      <td>3</td>\n",
              "      <td>2</td>\n",
              "      <td>2</td>\n",
              "      <td>1</td>\n",
              "      <td>0</td>\n",
              "      <td>1</td>\n",
              "      <td>0</td>\n",
              "      <td>0</td>\n",
              "      <td>2</td>\n",
              "      <td>1</td>\n",
              "      <td>1</td>\n",
              "      <td>0</td>\n",
              "    </tr>\n",
              "    <tr>\n",
              "      <th>3</th>\n",
              "      <td>12215000</td>\n",
              "      <td>7500</td>\n",
              "      <td>4</td>\n",
              "      <td>2</td>\n",
              "      <td>2</td>\n",
              "      <td>1</td>\n",
              "      <td>0</td>\n",
              "      <td>1</td>\n",
              "      <td>0</td>\n",
              "      <td>1</td>\n",
              "      <td>3</td>\n",
              "      <td>1</td>\n",
              "      <td>0</td>\n",
              "      <td>0</td>\n",
              "    </tr>\n",
              "    <tr>\n",
              "      <th>4</th>\n",
              "      <td>11410000</td>\n",
              "      <td>7420</td>\n",
              "      <td>4</td>\n",
              "      <td>1</td>\n",
              "      <td>2</td>\n",
              "      <td>1</td>\n",
              "      <td>1</td>\n",
              "      <td>1</td>\n",
              "      <td>0</td>\n",
              "      <td>1</td>\n",
              "      <td>2</td>\n",
              "      <td>0</td>\n",
              "      <td>0</td>\n",
              "      <td>0</td>\n",
              "    </tr>\n",
              "  </tbody>\n",
              "</table>\n",
              "</div>"
            ],
            "text/plain": [
              "      price  area  bedrooms  ...  prefarea  semi-furnished  unfurnished\n",
              "0  13300000  7420         4  ...         1               0            0\n",
              "1  12250000  8960         4  ...         0               0            0\n",
              "2  12250000  9960         3  ...         1               1            0\n",
              "3  12215000  7500         4  ...         1               0            0\n",
              "4  11410000  7420         4  ...         0               0            0\n",
              "\n",
              "[5 rows x 14 columns]"
            ]
          },
          "metadata": {},
          "execution_count": 13
        }
      ]
    },
    {
      "cell_type": "markdown",
      "metadata": {
        "id": "N6UTi2c9uQQc"
      },
      "source": [
        "#### Creating a new variable"
      ]
    },
    {
      "cell_type": "code",
      "metadata": {
        "id": "aoUYJfpiuQQc"
      },
      "source": [
        "# Let us create the new metric and assign it to \"areaperbedroom\". As name suggested you need to calculate area per bedroom\n",
        "housing['areaperbedroom'] =housing['area']/housing['bedrooms']"
      ],
      "execution_count": null,
      "outputs": []
    },
    {
      "cell_type": "code",
      "metadata": {
        "id": "cUA9aGkGuQQd"
      },
      "source": [
        "# Create another new Metric:bathrooms per bedroom\n",
        "housing['bbratio'] = housing['bathrooms']/housing['bedrooms']"
      ],
      "execution_count": null,
      "outputs": []
    },
    {
      "cell_type": "code",
      "metadata": {
        "id": "RtqtCBpuuQQd",
        "colab": {
          "base_uri": "https://localhost:8080/",
          "height": 243
        },
        "outputId": "33fbc525-a6d9-49b9-bae5-03bfb189c782"
      },
      "source": [
        "# print housing head\n",
        "housing.head()\n"
      ],
      "execution_count": null,
      "outputs": [
        {
          "output_type": "execute_result",
          "data": {
            "text/html": [
              "<div>\n",
              "<style scoped>\n",
              "    .dataframe tbody tr th:only-of-type {\n",
              "        vertical-align: middle;\n",
              "    }\n",
              "\n",
              "    .dataframe tbody tr th {\n",
              "        vertical-align: top;\n",
              "    }\n",
              "\n",
              "    .dataframe thead th {\n",
              "        text-align: right;\n",
              "    }\n",
              "</style>\n",
              "<table border=\"1\" class=\"dataframe\">\n",
              "  <thead>\n",
              "    <tr style=\"text-align: right;\">\n",
              "      <th></th>\n",
              "      <th>price</th>\n",
              "      <th>area</th>\n",
              "      <th>bedrooms</th>\n",
              "      <th>bathrooms</th>\n",
              "      <th>stories</th>\n",
              "      <th>mainroad</th>\n",
              "      <th>guestroom</th>\n",
              "      <th>basement</th>\n",
              "      <th>hotwaterheating</th>\n",
              "      <th>airconditioning</th>\n",
              "      <th>parking</th>\n",
              "      <th>prefarea</th>\n",
              "      <th>semi-furnished</th>\n",
              "      <th>unfurnished</th>\n",
              "      <th>areaperbedroom</th>\n",
              "      <th>bbratio</th>\n",
              "    </tr>\n",
              "  </thead>\n",
              "  <tbody>\n",
              "    <tr>\n",
              "      <th>0</th>\n",
              "      <td>13300000</td>\n",
              "      <td>7420</td>\n",
              "      <td>4</td>\n",
              "      <td>2</td>\n",
              "      <td>3</td>\n",
              "      <td>1</td>\n",
              "      <td>0</td>\n",
              "      <td>0</td>\n",
              "      <td>0</td>\n",
              "      <td>1</td>\n",
              "      <td>2</td>\n",
              "      <td>1</td>\n",
              "      <td>0</td>\n",
              "      <td>0</td>\n",
              "      <td>1855.0</td>\n",
              "      <td>0.500000</td>\n",
              "    </tr>\n",
              "    <tr>\n",
              "      <th>1</th>\n",
              "      <td>12250000</td>\n",
              "      <td>8960</td>\n",
              "      <td>4</td>\n",
              "      <td>4</td>\n",
              "      <td>4</td>\n",
              "      <td>1</td>\n",
              "      <td>0</td>\n",
              "      <td>0</td>\n",
              "      <td>0</td>\n",
              "      <td>1</td>\n",
              "      <td>3</td>\n",
              "      <td>0</td>\n",
              "      <td>0</td>\n",
              "      <td>0</td>\n",
              "      <td>2240.0</td>\n",
              "      <td>1.000000</td>\n",
              "    </tr>\n",
              "    <tr>\n",
              "      <th>2</th>\n",
              "      <td>12250000</td>\n",
              "      <td>9960</td>\n",
              "      <td>3</td>\n",
              "      <td>2</td>\n",
              "      <td>2</td>\n",
              "      <td>1</td>\n",
              "      <td>0</td>\n",
              "      <td>1</td>\n",
              "      <td>0</td>\n",
              "      <td>0</td>\n",
              "      <td>2</td>\n",
              "      <td>1</td>\n",
              "      <td>1</td>\n",
              "      <td>0</td>\n",
              "      <td>3320.0</td>\n",
              "      <td>0.666667</td>\n",
              "    </tr>\n",
              "    <tr>\n",
              "      <th>3</th>\n",
              "      <td>12215000</td>\n",
              "      <td>7500</td>\n",
              "      <td>4</td>\n",
              "      <td>2</td>\n",
              "      <td>2</td>\n",
              "      <td>1</td>\n",
              "      <td>0</td>\n",
              "      <td>1</td>\n",
              "      <td>0</td>\n",
              "      <td>1</td>\n",
              "      <td>3</td>\n",
              "      <td>1</td>\n",
              "      <td>0</td>\n",
              "      <td>0</td>\n",
              "      <td>1875.0</td>\n",
              "      <td>0.500000</td>\n",
              "    </tr>\n",
              "    <tr>\n",
              "      <th>4</th>\n",
              "      <td>11410000</td>\n",
              "      <td>7420</td>\n",
              "      <td>4</td>\n",
              "      <td>1</td>\n",
              "      <td>2</td>\n",
              "      <td>1</td>\n",
              "      <td>1</td>\n",
              "      <td>1</td>\n",
              "      <td>0</td>\n",
              "      <td>1</td>\n",
              "      <td>2</td>\n",
              "      <td>0</td>\n",
              "      <td>0</td>\n",
              "      <td>0</td>\n",
              "      <td>1855.0</td>\n",
              "      <td>0.250000</td>\n",
              "    </tr>\n",
              "  </tbody>\n",
              "</table>\n",
              "</div>"
            ],
            "text/plain": [
              "      price  area  bedrooms  ...  unfurnished  areaperbedroom   bbratio\n",
              "0  13300000  7420         4  ...            0          1855.0  0.500000\n",
              "1  12250000  8960         4  ...            0          2240.0  1.000000\n",
              "2  12250000  9960         3  ...            0          3320.0  0.666667\n",
              "3  12215000  7500         4  ...            0          1875.0  0.500000\n",
              "4  11410000  7420         4  ...            0          1855.0  0.250000\n",
              "\n",
              "[5 rows x 16 columns]"
            ]
          },
          "metadata": {},
          "execution_count": 16
        }
      ]
    },
    {
      "cell_type": "code",
      "metadata": {
        "id": "kC9cQ0_GuQQe"
      },
      "source": [
        "#defining a normalisation function \n",
        "#hint use formula=(x-min(x))/(max(x) - min(x))\n",
        "def normalize (x):\n",
        "  y= (x-min(x))/(max(x) - min(x))\n",
        "  return y\n",
        "\n",
        "    \n",
        "                                            \n",
        "                                              \n",
        "# applying normalize ( ) to all columns using apply function \n",
        "housing = housing.apply(normalize)"
      ],
      "execution_count": null,
      "outputs": []
    },
    {
      "cell_type": "markdown",
      "metadata": {
        "id": "G5jQCK3BuQQe"
      },
      "source": [
        "## Splitting Data into Training and Testing Sets\n",
        "\n",
        "<p style='text-align: right;'> 5 points</p>\n"
      ]
    },
    {
      "cell_type": "code",
      "metadata": {
        "id": "_g_mTtfcuQQe",
        "colab": {
          "base_uri": "https://localhost:8080/"
        },
        "outputId": "1035300f-75dd-4e45-d83d-5fc2a1bce296"
      },
      "source": [
        "# print all housing columns available to decide which all variables will be our feature and target variable\n",
        "housing.columns"
      ],
      "execution_count": null,
      "outputs": [
        {
          "output_type": "execute_result",
          "data": {
            "text/plain": [
              "Index(['price', 'area', 'bedrooms', 'bathrooms', 'stories', 'mainroad',\n",
              "       'guestroom', 'basement', 'hotwaterheating', 'airconditioning',\n",
              "       'parking', 'prefarea', 'semi-furnished', 'unfurnished',\n",
              "       'areaperbedroom', 'bbratio'],\n",
              "      dtype='object')"
            ]
          },
          "metadata": {},
          "execution_count": 18
        }
      ]
    },
    {
      "cell_type": "code",
      "metadata": {
        "id": "Sz6q9XnHuQQf"
      },
      "source": [
        "# Putting feature variable to X\n",
        "X = housing[['area', 'bedrooms', 'bathrooms', 'stories', 'mainroad',\n",
        "       'guestroom', 'basement', 'hotwaterheating', 'airconditioning',\n",
        "       'parking', 'prefarea', 'semi-furnished', 'unfurnished',\n",
        "       'areaperbedroom', 'bbratio']]\n",
        "\n",
        "# Putting response variable to y ie. price\n",
        "y = housing['price']"
      ],
      "execution_count": null,
      "outputs": []
    },
    {
      "cell_type": "code",
      "metadata": {
        "id": "KbPDBoe1uQQf"
      },
      "source": [
        "# import test_train_split module\n",
        "from sklearn.model_selection import train_test_split\n",
        "x_train,x_test,y_train,y_test=train_test_split(X,y,train_size=0.7,test_size=0.3,random_state=100)\n",
        "\n",
        "# test and train split with train_size as 30% and random state as 100\n"
      ],
      "execution_count": null,
      "outputs": []
    },
    {
      "cell_type": "markdown",
      "metadata": {
        "id": "oNXoo1EXuQQf"
      },
      "source": [
        "The splitting of test and train procedure involves taking a dataset and dividing it into two subsets. The first subset is used to fit the model and is referred to as the training dataset. The second subset is not used to train the model; instead, the input element of the dataset is provided to the model, then predictions are made and compared to the expected values. This second dataset is referred to as the test dataset.\n",
        "\n",
        "\n",
        "\n",
        "\n",
        "\n",
        "\n",
        "\n",
        "\n",
        "## Building a linear model\n",
        "\n",
        "\n",
        "\n",
        "\n"
      ]
    },
    {
      "cell_type": "code",
      "metadata": {
        "id": "9aFRJFfAuQQf",
        "colab": {
          "base_uri": "https://localhost:8080/"
        },
        "outputId": "91225f5d-31d4-4b1b-842d-702911b7960a"
      },
      "source": [
        "# Importing statsmodels module as sm\n",
        "import statsmodels.api as sm\n",
        "\n",
        "# Adding a constant column to our X_train dataframe\n",
        "X_train = sm.add_constant(x_train)\n",
        "\n",
        "# create a first fitted model\n",
        "lm_1 = sm.OLS(y_train,X_train).fit()"
      ],
      "execution_count": null,
      "outputs": [
        {
          "output_type": "stream",
          "name": "stderr",
          "text": [
            "/usr/local/lib/python3.7/dist-packages/statsmodels/tools/_testing.py:19: FutureWarning: pandas.util.testing is deprecated. Use the functions in the public API at pandas.testing instead.\n",
            "  import pandas.util.testing as tm\n"
          ]
        }
      ]
    },
    {
      "cell_type": "code",
      "metadata": {
        "id": "hW_sz75VuQQg",
        "colab": {
          "base_uri": "https://localhost:8080/",
          "height": 737
        },
        "outputId": "8a6975a5-1979-4c54-9e42-005ad151505a"
      },
      "source": [
        "#Let's see the summary of our first linear model\n",
        "summary_model=lm_1.summary()\n",
        "summary_model"
      ],
      "execution_count": null,
      "outputs": [
        {
          "output_type": "execute_result",
          "data": {
            "text/html": [
              "<table class=\"simpletable\">\n",
              "<caption>OLS Regression Results</caption>\n",
              "<tr>\n",
              "  <th>Dep. Variable:</th>          <td>price</td>      <th>  R-squared:         </th> <td>   0.686</td>\n",
              "</tr>\n",
              "<tr>\n",
              "  <th>Model:</th>                   <td>OLS</td>       <th>  Adj. R-squared:    </th> <td>   0.673</td>\n",
              "</tr>\n",
              "<tr>\n",
              "  <th>Method:</th>             <td>Least Squares</td>  <th>  F-statistic:       </th> <td>   53.12</td>\n",
              "</tr>\n",
              "<tr>\n",
              "  <th>Date:</th>             <td>Wed, 15 Dec 2021</td> <th>  Prob (F-statistic):</th> <td>4.56e-82</td>\n",
              "</tr>\n",
              "<tr>\n",
              "  <th>Time:</th>                 <td>03:07:53</td>     <th>  Log-Likelihood:    </th> <td>  384.40</td>\n",
              "</tr>\n",
              "<tr>\n",
              "  <th>No. Observations:</th>      <td>   381</td>      <th>  AIC:               </th> <td>  -736.8</td>\n",
              "</tr>\n",
              "<tr>\n",
              "  <th>Df Residuals:</th>          <td>   365</td>      <th>  BIC:               </th> <td>  -673.7</td>\n",
              "</tr>\n",
              "<tr>\n",
              "  <th>Df Model:</th>              <td>    15</td>      <th>                     </th>     <td> </td>   \n",
              "</tr>\n",
              "<tr>\n",
              "  <th>Covariance Type:</th>      <td>nonrobust</td>    <th>                     </th>     <td> </td>   \n",
              "</tr>\n",
              "</table>\n",
              "<table class=\"simpletable\">\n",
              "<tr>\n",
              "         <td></td>            <th>coef</th>     <th>std err</th>      <th>t</th>      <th>P>|t|</th>  <th>[0.025</th>    <th>0.975]</th>  \n",
              "</tr>\n",
              "<tr>\n",
              "  <th>const</th>           <td>    0.0603</td> <td>    0.059</td> <td>    1.029</td> <td> 0.304</td> <td>   -0.055</td> <td>    0.176</td>\n",
              "</tr>\n",
              "<tr>\n",
              "  <th>area</th>            <td>    0.5745</td> <td>    0.134</td> <td>    4.285</td> <td> 0.000</td> <td>    0.311</td> <td>    0.838</td>\n",
              "</tr>\n",
              "<tr>\n",
              "  <th>bedrooms</th>        <td>   -0.0587</td> <td>    0.093</td> <td>   -0.632</td> <td> 0.528</td> <td>   -0.241</td> <td>    0.124</td>\n",
              "</tr>\n",
              "<tr>\n",
              "  <th>bathrooms</th>       <td>    0.2336</td> <td>    0.126</td> <td>    1.849</td> <td> 0.065</td> <td>   -0.015</td> <td>    0.482</td>\n",
              "</tr>\n",
              "<tr>\n",
              "  <th>stories</th>         <td>    0.1018</td> <td>    0.019</td> <td>    5.265</td> <td> 0.000</td> <td>    0.064</td> <td>    0.140</td>\n",
              "</tr>\n",
              "<tr>\n",
              "  <th>mainroad</th>        <td>    0.0511</td> <td>    0.014</td> <td>    3.580</td> <td> 0.000</td> <td>    0.023</td> <td>    0.079</td>\n",
              "</tr>\n",
              "<tr>\n",
              "  <th>guestroom</th>       <td>    0.0260</td> <td>    0.014</td> <td>    1.887</td> <td> 0.060</td> <td>   -0.001</td> <td>    0.053</td>\n",
              "</tr>\n",
              "<tr>\n",
              "  <th>basement</th>        <td>    0.0208</td> <td>    0.011</td> <td>    1.877</td> <td> 0.061</td> <td>   -0.001</td> <td>    0.043</td>\n",
              "</tr>\n",
              "<tr>\n",
              "  <th>hotwaterheating</th> <td>    0.0875</td> <td>    0.022</td> <td>    4.048</td> <td> 0.000</td> <td>    0.045</td> <td>    0.130</td>\n",
              "</tr>\n",
              "<tr>\n",
              "  <th>airconditioning</th> <td>    0.0663</td> <td>    0.011</td> <td>    5.868</td> <td> 0.000</td> <td>    0.044</td> <td>    0.088</td>\n",
              "</tr>\n",
              "<tr>\n",
              "  <th>parking</th>         <td>    0.0562</td> <td>    0.018</td> <td>    3.104</td> <td> 0.002</td> <td>    0.021</td> <td>    0.092</td>\n",
              "</tr>\n",
              "<tr>\n",
              "  <th>prefarea</th>        <td>    0.0566</td> <td>    0.012</td> <td>    4.772</td> <td> 0.000</td> <td>    0.033</td> <td>    0.080</td>\n",
              "</tr>\n",
              "<tr>\n",
              "  <th>semi-furnished</th>  <td>   -0.0008</td> <td>    0.012</td> <td>   -0.068</td> <td> 0.946</td> <td>   -0.024</td> <td>    0.022</td>\n",
              "</tr>\n",
              "<tr>\n",
              "  <th>unfurnished</th>     <td>   -0.0323</td> <td>    0.013</td> <td>   -2.550</td> <td> 0.011</td> <td>   -0.057</td> <td>   -0.007</td>\n",
              "</tr>\n",
              "<tr>\n",
              "  <th>areaperbedroom</th>  <td>   -0.3135</td> <td>    0.147</td> <td>   -2.139</td> <td> 0.033</td> <td>   -0.602</td> <td>   -0.025</td>\n",
              "</tr>\n",
              "<tr>\n",
              "  <th>bbratio</th>         <td>    0.0439</td> <td>    0.104</td> <td>    0.421</td> <td> 0.674</td> <td>   -0.161</td> <td>    0.249</td>\n",
              "</tr>\n",
              "</table>\n",
              "<table class=\"simpletable\">\n",
              "<tr>\n",
              "  <th>Omnibus:</th>       <td>87.283</td> <th>  Durbin-Watson:     </th> <td>   2.087</td>\n",
              "</tr>\n",
              "<tr>\n",
              "  <th>Prob(Omnibus):</th> <td> 0.000</td> <th>  Jarque-Bera (JB):  </th> <td> 276.328</td>\n",
              "</tr>\n",
              "<tr>\n",
              "  <th>Skew:</th>          <td> 1.023</td> <th>  Prob(JB):          </th> <td>9.91e-61</td>\n",
              "</tr>\n",
              "<tr>\n",
              "  <th>Kurtosis:</th>      <td> 6.636</td> <th>  Cond. No.          </th> <td>    82.4</td>\n",
              "</tr>\n",
              "</table><br/><br/>Warnings:<br/>[1] Standard Errors assume that the covariance matrix of the errors is correctly specified."
            ],
            "text/plain": [
              "<class 'statsmodels.iolib.summary.Summary'>\n",
              "\"\"\"\n",
              "                            OLS Regression Results                            \n",
              "==============================================================================\n",
              "Dep. Variable:                  price   R-squared:                       0.686\n",
              "Model:                            OLS   Adj. R-squared:                  0.673\n",
              "Method:                 Least Squares   F-statistic:                     53.12\n",
              "Date:                Wed, 15 Dec 2021   Prob (F-statistic):           4.56e-82\n",
              "Time:                        03:07:53   Log-Likelihood:                 384.40\n",
              "No. Observations:                 381   AIC:                            -736.8\n",
              "Df Residuals:                     365   BIC:                            -673.7\n",
              "Df Model:                          15                                         \n",
              "Covariance Type:            nonrobust                                         \n",
              "===================================================================================\n",
              "                      coef    std err          t      P>|t|      [0.025      0.975]\n",
              "-----------------------------------------------------------------------------------\n",
              "const               0.0603      0.059      1.029      0.304      -0.055       0.176\n",
              "area                0.5745      0.134      4.285      0.000       0.311       0.838\n",
              "bedrooms           -0.0587      0.093     -0.632      0.528      -0.241       0.124\n",
              "bathrooms           0.2336      0.126      1.849      0.065      -0.015       0.482\n",
              "stories             0.1018      0.019      5.265      0.000       0.064       0.140\n",
              "mainroad            0.0511      0.014      3.580      0.000       0.023       0.079\n",
              "guestroom           0.0260      0.014      1.887      0.060      -0.001       0.053\n",
              "basement            0.0208      0.011      1.877      0.061      -0.001       0.043\n",
              "hotwaterheating     0.0875      0.022      4.048      0.000       0.045       0.130\n",
              "airconditioning     0.0663      0.011      5.868      0.000       0.044       0.088\n",
              "parking             0.0562      0.018      3.104      0.002       0.021       0.092\n",
              "prefarea            0.0566      0.012      4.772      0.000       0.033       0.080\n",
              "semi-furnished     -0.0008      0.012     -0.068      0.946      -0.024       0.022\n",
              "unfurnished        -0.0323      0.013     -2.550      0.011      -0.057      -0.007\n",
              "areaperbedroom     -0.3135      0.147     -2.139      0.033      -0.602      -0.025\n",
              "bbratio             0.0439      0.104      0.421      0.674      -0.161       0.249\n",
              "==============================================================================\n",
              "Omnibus:                       87.283   Durbin-Watson:                   2.087\n",
              "Prob(Omnibus):                  0.000   Jarque-Bera (JB):              276.328\n",
              "Skew:                           1.023   Prob(JB):                     9.91e-61\n",
              "Kurtosis:                       6.636   Cond. No.                         82.4\n",
              "==============================================================================\n",
              "\n",
              "Warnings:\n",
              "[1] Standard Errors assume that the covariance matrix of the errors is correctly specified.\n",
              "\"\"\""
            ]
          },
          "metadata": {},
          "execution_count": 22
        }
      ]
    },
    {
      "cell_type": "code",
      "metadata": {
        "id": "mgPMEH_quQQg"
      },
      "source": [
        "# Importing matplotlib and seaborn \n",
        "import matplotlib.pyplot as plt\n",
        "import seaborn as sns\n",
        "\n",
        "# write magic function matplotlib inline\n",
        "%matplotlib inline "
      ],
      "execution_count": null,
      "outputs": []
    },
    {
      "cell_type": "code",
      "metadata": {
        "id": "kytVRDc1uQQg",
        "colab": {
          "base_uri": "https://localhost:8080/",
          "height": 686
        },
        "outputId": "7424e1cc-3758-47ea-9850-0e50eed6ee90"
      },
      "source": [
        "# Let's see the correlation matrix on hoousing data\n",
        "# Size of the figure=(16,10)\n",
        "plt.figure(figsize=(16,10))\n",
        "sns.heatmap(housing.corr(),annot=True,cmap = 'BrBG')\n",
        "\n"
      ],
      "execution_count": null,
      "outputs": [
        {
          "output_type": "execute_result",
          "data": {
            "text/plain": [
              "<matplotlib.axes._subplots.AxesSubplot at 0x7f6b4eba3150>"
            ]
          },
          "metadata": {},
          "execution_count": 24
        },
        {
          "output_type": "display_data",
          "data": {
            "image/png": "[encoded data removed]",
            "text/plain": [
              "<Figure size 1152x720 with 2 Axes>"
            ]
          },
          "metadata": {
            "needs_background": "light"
          }
        }
      ]
    },
    {
      "cell_type": "markdown",
      "metadata": {
        "id": "D3MMNQv9uQQg"
      },
      "source": [
        "### Checking VIF\n",
        "\n",
        "Multicollinearity can be detected via various methods. In this assignemnt, we will focus on the most common one – VIF (Variable Inflation Factors).<br>\n",
        "\n",
        "\n",
        "\n"
      ]
    },
    {
      "cell_type": "code",
      "metadata": {
        "id": "oxPIeb29uQQh",
        "colab": {
          "base_uri": "https://localhost:8080/",
          "height": 520
        },
        "outputId": "47701122-1fee-459b-a57b-1a7d046ae15e"
      },
      "source": [
        "# import variance_inflation_factor module\n",
        "\n",
        "# Define vif_scores function as stated above\n",
        "from statsmodels.stats.outliers_influence import variance_inflation_factor\n",
        "def calc_vif(X):\n",
        "  vif_data=pd.DataFrame()\n",
        "  vif_data[\"feature\"] = X.columns\n",
        "  vif_data[\"VIF\"] = [variance_inflation_factor(X.values, i)\n",
        "                          for i in range(len(X.columns))]\n",
        "  return vif_data                        \n",
        "\n",
        "\n",
        "\n",
        "\n",
        "\n",
        "\n",
        "\n",
        "\n",
        "\n",
        "# print vif scores for all current input features\n",
        "calc_vif(X)"
      ],
      "execution_count": null,
      "outputs": [
        {
          "output_type": "execute_result",
          "data": {
            "text/html": [
              "<div>\n",
              "<style scoped>\n",
              "    .dataframe tbody tr th:only-of-type {\n",
              "        vertical-align: middle;\n",
              "    }\n",
              "\n",
              "    .dataframe tbody tr th {\n",
              "        vertical-align: top;\n",
              "    }\n",
              "\n",
              "    .dataframe thead th {\n",
              "        text-align: right;\n",
              "    }\n",
              "</style>\n",
              "<table border=\"1\" class=\"dataframe\">\n",
              "  <thead>\n",
              "    <tr style=\"text-align: right;\">\n",
              "      <th></th>\n",
              "      <th>feature</th>\n",
              "      <th>VIF</th>\n",
              "    </tr>\n",
              "  </thead>\n",
              "  <tbody>\n",
              "    <tr>\n",
              "      <th>0</th>\n",
              "      <td>area</td>\n",
              "      <td>57.516048</td>\n",
              "    </tr>\n",
              "    <tr>\n",
              "      <th>1</th>\n",
              "      <td>bedrooms</td>\n",
              "      <td>10.683404</td>\n",
              "    </tr>\n",
              "    <tr>\n",
              "      <th>2</th>\n",
              "      <td>bathrooms</td>\n",
              "      <td>11.106354</td>\n",
              "    </tr>\n",
              "    <tr>\n",
              "      <th>3</th>\n",
              "      <td>stories</td>\n",
              "      <td>2.805901</td>\n",
              "    </tr>\n",
              "    <tr>\n",
              "      <th>4</th>\n",
              "      <td>mainroad</td>\n",
              "      <td>7.910522</td>\n",
              "    </tr>\n",
              "    <tr>\n",
              "      <th>5</th>\n",
              "      <td>guestroom</td>\n",
              "      <td>1.492428</td>\n",
              "    </tr>\n",
              "    <tr>\n",
              "      <th>6</th>\n",
              "      <td>basement</td>\n",
              "      <td>2.045854</td>\n",
              "    </tr>\n",
              "    <tr>\n",
              "      <th>7</th>\n",
              "      <td>hotwaterheating</td>\n",
              "      <td>1.097694</td>\n",
              "    </tr>\n",
              "    <tr>\n",
              "      <th>8</th>\n",
              "      <td>airconditioning</td>\n",
              "      <td>1.768615</td>\n",
              "    </tr>\n",
              "    <tr>\n",
              "      <th>9</th>\n",
              "      <td>parking</td>\n",
              "      <td>2.007955</td>\n",
              "    </tr>\n",
              "    <tr>\n",
              "      <th>10</th>\n",
              "      <td>prefarea</td>\n",
              "      <td>1.509807</td>\n",
              "    </tr>\n",
              "    <tr>\n",
              "      <th>11</th>\n",
              "      <td>semi-furnished</td>\n",
              "      <td>2.614252</td>\n",
              "    </tr>\n",
              "    <tr>\n",
              "      <th>12</th>\n",
              "      <td>unfurnished</td>\n",
              "      <td>2.382862</td>\n",
              "    </tr>\n",
              "    <tr>\n",
              "      <th>13</th>\n",
              "      <td>areaperbedroom</td>\n",
              "      <td>68.707105</td>\n",
              "    </tr>\n",
              "    <tr>\n",
              "      <th>14</th>\n",
              "      <td>bbratio</td>\n",
              "      <td>29.249998</td>\n",
              "    </tr>\n",
              "  </tbody>\n",
              "</table>\n",
              "</div>"
            ],
            "text/plain": [
              "            feature        VIF\n",
              "0              area  57.516048\n",
              "1          bedrooms  10.683404\n",
              "2         bathrooms  11.106354\n",
              "3           stories   2.805901\n",
              "4          mainroad   7.910522\n",
              "5         guestroom   1.492428\n",
              "6          basement   2.045854\n",
              "7   hotwaterheating   1.097694\n",
              "8   airconditioning   1.768615\n",
              "9           parking   2.007955\n",
              "10         prefarea   1.509807\n",
              "11   semi-furnished   2.614252\n",
              "12      unfurnished   2.382862\n",
              "13   areaperbedroom  68.707105\n",
              "14          bbratio  29.249998"
            ]
          },
          "metadata": {},
          "execution_count": 25
        }
      ]
    },
    {
      "cell_type": "markdown",
      "metadata": {
        "id": "iyY2JnhMuQQh"
      },
      "source": [
        "### Dropping the Variable and Updating the Model\n",
        "\n",
        "Dropping highly correlated variables and insignificant variables through both correlation matrix and vif scores.\n",
        "\n",
        "As you can see there are two groups of multicollinear variables. \n",
        "1. areaperbedroom and area\n",
        "2. bbratio and bathrooms\n",
        "\n",
        "the first group is neccesary for us to keep as it gives us relevant impact on traget, but from second set as we know that bbratio is not as significant as bathrooms, so we will drop it off.\n"
      ]
    },
    {
      "cell_type": "code",
      "metadata": {
        "id": "vTr5L_ZmuQQh",
        "colab": {
          "base_uri": "https://localhost:8080/",
          "height": 488
        },
        "outputId": "a923f01c-0221-47c7-8282-4eb7011df8fe"
      },
      "source": [
        "# Lets check vif scores again after removing bbratio from features.\n",
        "\n",
        "calc_vif(X.drop('bbratio',1))"
      ],
      "execution_count": null,
      "outputs": [
        {
          "output_type": "execute_result",
          "data": {
            "text/html": [
              "<div>\n",
              "<style scoped>\n",
              "    .dataframe tbody tr th:only-of-type {\n",
              "        vertical-align: middle;\n",
              "    }\n",
              "\n",
              "    .dataframe tbody tr th {\n",
              "        vertical-align: top;\n",
              "    }\n",
              "\n",
              "    .dataframe thead th {\n",
              "        text-align: right;\n",
              "    }\n",
              "</style>\n",
              "<table border=\"1\" class=\"dataframe\">\n",
              "  <thead>\n",
              "    <tr style=\"text-align: right;\">\n",
              "      <th></th>\n",
              "      <th>feature</th>\n",
              "      <th>VIF</th>\n",
              "    </tr>\n",
              "  </thead>\n",
              "  <tbody>\n",
              "    <tr>\n",
              "      <th>0</th>\n",
              "      <td>area</td>\n",
              "      <td>20.716025</td>\n",
              "    </tr>\n",
              "    <tr>\n",
              "      <th>1</th>\n",
              "      <td>bedrooms</td>\n",
              "      <td>10.026456</td>\n",
              "    </tr>\n",
              "    <tr>\n",
              "      <th>2</th>\n",
              "      <td>bathrooms</td>\n",
              "      <td>1.712298</td>\n",
              "    </tr>\n",
              "    <tr>\n",
              "      <th>3</th>\n",
              "      <td>stories</td>\n",
              "      <td>2.783201</td>\n",
              "    </tr>\n",
              "    <tr>\n",
              "      <th>4</th>\n",
              "      <td>mainroad</td>\n",
              "      <td>7.459237</td>\n",
              "    </tr>\n",
              "    <tr>\n",
              "      <th>5</th>\n",
              "      <td>guestroom</td>\n",
              "      <td>1.478756</td>\n",
              "    </tr>\n",
              "    <tr>\n",
              "      <th>6</th>\n",
              "      <td>basement</td>\n",
              "      <td>2.027730</td>\n",
              "    </tr>\n",
              "    <tr>\n",
              "      <th>7</th>\n",
              "      <td>hotwaterheating</td>\n",
              "      <td>1.093564</td>\n",
              "    </tr>\n",
              "    <tr>\n",
              "      <th>8</th>\n",
              "      <td>airconditioning</td>\n",
              "      <td>1.768236</td>\n",
              "    </tr>\n",
              "    <tr>\n",
              "      <th>9</th>\n",
              "      <td>parking</td>\n",
              "      <td>2.004052</td>\n",
              "    </tr>\n",
              "    <tr>\n",
              "      <th>10</th>\n",
              "      <td>prefarea</td>\n",
              "      <td>1.509389</td>\n",
              "    </tr>\n",
              "    <tr>\n",
              "      <th>11</th>\n",
              "      <td>semi-furnished</td>\n",
              "      <td>2.484125</td>\n",
              "    </tr>\n",
              "    <tr>\n",
              "      <th>12</th>\n",
              "      <td>unfurnished</td>\n",
              "      <td>2.204838</td>\n",
              "    </tr>\n",
              "    <tr>\n",
              "      <th>13</th>\n",
              "      <td>areaperbedroom</td>\n",
              "      <td>18.437262</td>\n",
              "    </tr>\n",
              "  </tbody>\n",
              "</table>\n",
              "</div>"
            ],
            "text/plain": [
              "            feature        VIF\n",
              "0              area  20.716025\n",
              "1          bedrooms  10.026456\n",
              "2         bathrooms   1.712298\n",
              "3           stories   2.783201\n",
              "4          mainroad   7.459237\n",
              "5         guestroom   1.478756\n",
              "6          basement   2.027730\n",
              "7   hotwaterheating   1.093564\n",
              "8   airconditioning   1.768236\n",
              "9           parking   2.004052\n",
              "10         prefarea   1.509389\n",
              "11   semi-furnished   2.484125\n",
              "12      unfurnished   2.204838\n",
              "13   areaperbedroom  18.437262"
            ]
          },
          "metadata": {},
          "execution_count": 26
        }
      ]
    },
    {
      "cell_type": "markdown",
      "metadata": {
        "id": "J5jTkKFBuQQi"
      },
      "source": [
        "As you can see the vif scores are still high. Lets drop bedroom also as input feature and again check vif scores.\n"
      ]
    },
    {
      "cell_type": "code",
      "metadata": {
        "id": "eFAzb4rBuQQi",
        "colab": {
          "base_uri": "https://localhost:8080/",
          "height": 457
        },
        "outputId": "0a02b24d-d2bd-4927-ad01-ed18ffb89769"
      },
      "source": [
        "# Lets check vif scores after removing bedrooms from left features.\n",
        "\n",
        "calc_vif(X.drop(['bbratio','bedrooms'],1))"
      ],
      "execution_count": null,
      "outputs": [
        {
          "output_type": "execute_result",
          "data": {
            "text/html": [
              "<div>\n",
              "<style scoped>\n",
              "    .dataframe tbody tr th:only-of-type {\n",
              "        vertical-align: middle;\n",
              "    }\n",
              "\n",
              "    .dataframe tbody tr th {\n",
              "        vertical-align: top;\n",
              "    }\n",
              "\n",
              "    .dataframe thead th {\n",
              "        text-align: right;\n",
              "    }\n",
              "</style>\n",
              "<table border=\"1\" class=\"dataframe\">\n",
              "  <thead>\n",
              "    <tr style=\"text-align: right;\">\n",
              "      <th></th>\n",
              "      <th>feature</th>\n",
              "      <th>VIF</th>\n",
              "    </tr>\n",
              "  </thead>\n",
              "  <tbody>\n",
              "    <tr>\n",
              "      <th>0</th>\n",
              "      <td>area</td>\n",
              "      <td>14.978857</td>\n",
              "    </tr>\n",
              "    <tr>\n",
              "      <th>1</th>\n",
              "      <td>bathrooms</td>\n",
              "      <td>1.692180</td>\n",
              "    </tr>\n",
              "    <tr>\n",
              "      <th>2</th>\n",
              "      <td>stories</td>\n",
              "      <td>2.559555</td>\n",
              "    </tr>\n",
              "    <tr>\n",
              "      <th>3</th>\n",
              "      <td>mainroad</td>\n",
              "      <td>6.099134</td>\n",
              "    </tr>\n",
              "    <tr>\n",
              "      <th>4</th>\n",
              "      <td>guestroom</td>\n",
              "      <td>1.475441</td>\n",
              "    </tr>\n",
              "    <tr>\n",
              "      <th>5</th>\n",
              "      <td>basement</td>\n",
              "      <td>1.901473</td>\n",
              "    </tr>\n",
              "    <tr>\n",
              "      <th>6</th>\n",
              "      <td>hotwaterheating</td>\n",
              "      <td>1.087115</td>\n",
              "    </tr>\n",
              "    <tr>\n",
              "      <th>7</th>\n",
              "      <td>airconditioning</td>\n",
              "      <td>1.762488</td>\n",
              "    </tr>\n",
              "    <tr>\n",
              "      <th>8</th>\n",
              "      <td>parking</td>\n",
              "      <td>1.999982</td>\n",
              "    </tr>\n",
              "    <tr>\n",
              "      <th>9</th>\n",
              "      <td>prefarea</td>\n",
              "      <td>1.504964</td>\n",
              "    </tr>\n",
              "    <tr>\n",
              "      <th>10</th>\n",
              "      <td>semi-furnished</td>\n",
              "      <td>2.037729</td>\n",
              "    </tr>\n",
              "    <tr>\n",
              "      <th>11</th>\n",
              "      <td>unfurnished</td>\n",
              "      <td>1.722278</td>\n",
              "    </tr>\n",
              "    <tr>\n",
              "      <th>12</th>\n",
              "      <td>areaperbedroom</td>\n",
              "      <td>13.881473</td>\n",
              "    </tr>\n",
              "  </tbody>\n",
              "</table>\n",
              "</div>"
            ],
            "text/plain": [
              "            feature        VIF\n",
              "0              area  14.978857\n",
              "1         bathrooms   1.692180\n",
              "2           stories   2.559555\n",
              "3          mainroad   6.099134\n",
              "4         guestroom   1.475441\n",
              "5          basement   1.901473\n",
              "6   hotwaterheating   1.087115\n",
              "7   airconditioning   1.762488\n",
              "8           parking   1.999982\n",
              "9          prefarea   1.504964\n",
              "10   semi-furnished   2.037729\n",
              "11      unfurnished   1.722278\n",
              "12   areaperbedroom  13.881473"
            ]
          },
          "metadata": {},
          "execution_count": 27
        }
      ]
    },
    {
      "cell_type": "markdown",
      "metadata": {
        "id": "zPMF9FtbuQQi"
      },
      "source": [
        "As you can see the vif scores are still high. Lets drop areaperbedroom which we calculated as input feature and again check vif scores.\n",
        "\n",
        "Its very natural that both area, bedroom and areaperbedroom will be highly correlated with each other as areaperbedroom is calculated out of area and bedroom.\n",
        "\n"
      ]
    },
    {
      "cell_type": "code",
      "metadata": {
        "id": "7TIw_JiguQQi",
        "colab": {
          "base_uri": "https://localhost:8080/",
          "height": 426
        },
        "outputId": "9d8b1ccb-4778-47f2-d75b-45fd7919c2f3"
      },
      "source": [
        "# Lets check vif scores after removing areaperbedroom from features which are left.\n",
        "\n",
        "calc_vif(X.drop(['bbratio','bedrooms','areaperbedroom'],1))"
      ],
      "execution_count": null,
      "outputs": [
        {
          "output_type": "execute_result",
          "data": {
            "text/html": [
              "<div>\n",
              "<style scoped>\n",
              "    .dataframe tbody tr th:only-of-type {\n",
              "        vertical-align: middle;\n",
              "    }\n",
              "\n",
              "    .dataframe tbody tr th {\n",
              "        vertical-align: top;\n",
              "    }\n",
              "\n",
              "    .dataframe thead th {\n",
              "        text-align: right;\n",
              "    }\n",
              "</style>\n",
              "<table border=\"1\" class=\"dataframe\">\n",
              "  <thead>\n",
              "    <tr style=\"text-align: right;\">\n",
              "      <th></th>\n",
              "      <th>feature</th>\n",
              "      <th>VIF</th>\n",
              "    </tr>\n",
              "  </thead>\n",
              "  <tbody>\n",
              "    <tr>\n",
              "      <th>0</th>\n",
              "      <td>area</td>\n",
              "      <td>4.427217</td>\n",
              "    </tr>\n",
              "    <tr>\n",
              "      <th>1</th>\n",
              "      <td>bathrooms</td>\n",
              "      <td>1.619363</td>\n",
              "    </tr>\n",
              "    <tr>\n",
              "      <th>2</th>\n",
              "      <td>stories</td>\n",
              "      <td>2.323144</td>\n",
              "    </tr>\n",
              "    <tr>\n",
              "      <th>3</th>\n",
              "      <td>mainroad</td>\n",
              "      <td>5.513523</td>\n",
              "    </tr>\n",
              "    <tr>\n",
              "      <th>4</th>\n",
              "      <td>guestroom</td>\n",
              "      <td>1.474326</td>\n",
              "    </tr>\n",
              "    <tr>\n",
              "      <th>5</th>\n",
              "      <td>basement</td>\n",
              "      <td>1.896942</td>\n",
              "    </tr>\n",
              "    <tr>\n",
              "      <th>6</th>\n",
              "      <td>hotwaterheating</td>\n",
              "      <td>1.086273</td>\n",
              "    </tr>\n",
              "    <tr>\n",
              "      <th>7</th>\n",
              "      <td>airconditioning</td>\n",
              "      <td>1.760737</td>\n",
              "    </tr>\n",
              "    <tr>\n",
              "      <th>8</th>\n",
              "      <td>parking</td>\n",
              "      <td>1.987943</td>\n",
              "    </tr>\n",
              "    <tr>\n",
              "      <th>9</th>\n",
              "      <td>prefarea</td>\n",
              "      <td>1.497335</td>\n",
              "    </tr>\n",
              "    <tr>\n",
              "      <th>10</th>\n",
              "      <td>semi-furnished</td>\n",
              "      <td>2.004738</td>\n",
              "    </tr>\n",
              "    <tr>\n",
              "      <th>11</th>\n",
              "      <td>unfurnished</td>\n",
              "      <td>1.652372</td>\n",
              "    </tr>\n",
              "  </tbody>\n",
              "</table>\n",
              "</div>"
            ],
            "text/plain": [
              "            feature       VIF\n",
              "0              area  4.427217\n",
              "1         bathrooms  1.619363\n",
              "2           stories  2.323144\n",
              "3          mainroad  5.513523\n",
              "4         guestroom  1.474326\n",
              "5          basement  1.896942\n",
              "6   hotwaterheating  1.086273\n",
              "7   airconditioning  1.760737\n",
              "8           parking  1.987943\n",
              "9          prefarea  1.497335\n",
              "10   semi-furnished  2.004738\n",
              "11      unfurnished  1.652372"
            ]
          },
          "metadata": {},
          "execution_count": 28
        }
      ]
    },
    {
      "cell_type": "markdown",
      "metadata": {
        "id": "PDrDN_QEuQQi"
      },
      "source": [
        "Now as you can still se vif scores are again more than 5. But if you see only 'mainroad' feature which having high vif score does'nt mean that you will remove it.\n",
        "You need to see the importance of that particular feature also in price prediction. Since mainoad, area and stories are really important to us. So you can go with removing semi-furnished feature next."
      ]
    },
    {
      "cell_type": "code",
      "metadata": {
        "id": "xQXAquCsuQQi",
        "colab": {
          "base_uri": "https://localhost:8080/",
          "height": 394
        },
        "outputId": "4cb77d2d-cdf6-4fce-aa28-0542de986d27"
      },
      "source": [
        "# Lets check vif scores after removing semi-furnished from features which are left.\n",
        "\n",
        "calc_vif(X.drop(['bbratio','bedrooms','areaperbedroom','semi-furnished'],1))"
      ],
      "execution_count": null,
      "outputs": [
        {
          "output_type": "execute_result",
          "data": {
            "text/html": [
              "<div>\n",
              "<style scoped>\n",
              "    .dataframe tbody tr th:only-of-type {\n",
              "        vertical-align: middle;\n",
              "    }\n",
              "\n",
              "    .dataframe tbody tr th {\n",
              "        vertical-align: top;\n",
              "    }\n",
              "\n",
              "    .dataframe thead th {\n",
              "        text-align: right;\n",
              "    }\n",
              "</style>\n",
              "<table border=\"1\" class=\"dataframe\">\n",
              "  <thead>\n",
              "    <tr style=\"text-align: right;\">\n",
              "      <th></th>\n",
              "      <th>feature</th>\n",
              "      <th>VIF</th>\n",
              "    </tr>\n",
              "  </thead>\n",
              "  <tbody>\n",
              "    <tr>\n",
              "      <th>0</th>\n",
              "      <td>area</td>\n",
              "      <td>4.362200</td>\n",
              "    </tr>\n",
              "    <tr>\n",
              "      <th>1</th>\n",
              "      <td>bathrooms</td>\n",
              "      <td>1.619286</td>\n",
              "    </tr>\n",
              "    <tr>\n",
              "      <th>2</th>\n",
              "      <td>stories</td>\n",
              "      <td>2.301304</td>\n",
              "    </tr>\n",
              "    <tr>\n",
              "      <th>3</th>\n",
              "      <td>mainroad</td>\n",
              "      <td>4.845386</td>\n",
              "    </tr>\n",
              "    <tr>\n",
              "      <th>4</th>\n",
              "      <td>guestroom</td>\n",
              "      <td>1.470984</td>\n",
              "    </tr>\n",
              "    <tr>\n",
              "      <th>5</th>\n",
              "      <td>basement</td>\n",
              "      <td>1.860222</td>\n",
              "    </tr>\n",
              "    <tr>\n",
              "      <th>6</th>\n",
              "      <td>hotwaterheating</td>\n",
              "      <td>1.081743</td>\n",
              "    </tr>\n",
              "    <tr>\n",
              "      <th>7</th>\n",
              "      <td>airconditioning</td>\n",
              "      <td>1.753933</td>\n",
              "    </tr>\n",
              "    <tr>\n",
              "      <th>8</th>\n",
              "      <td>parking</td>\n",
              "      <td>1.987700</td>\n",
              "    </tr>\n",
              "    <tr>\n",
              "      <th>9</th>\n",
              "      <td>prefarea</td>\n",
              "      <td>1.490106</td>\n",
              "    </tr>\n",
              "    <tr>\n",
              "      <th>10</th>\n",
              "      <td>unfurnished</td>\n",
              "      <td>1.341568</td>\n",
              "    </tr>\n",
              "  </tbody>\n",
              "</table>\n",
              "</div>"
            ],
            "text/plain": [
              "            feature       VIF\n",
              "0              area  4.362200\n",
              "1         bathrooms  1.619286\n",
              "2           stories  2.301304\n",
              "3          mainroad  4.845386\n",
              "4         guestroom  1.470984\n",
              "5          basement  1.860222\n",
              "6   hotwaterheating  1.081743\n",
              "7   airconditioning  1.753933\n",
              "8           parking  1.987700\n",
              "9          prefarea  1.490106\n",
              "10      unfurnished  1.341568"
            ]
          },
          "metadata": {},
          "execution_count": 29
        }
      ]
    },
    {
      "cell_type": "markdown",
      "metadata": {
        "id": "keAg6_WxuQQi"
      },
      "source": [
        "\n"
      ]
    },
    {
      "cell_type": "code",
      "metadata": {
        "id": "OxDvo0A_uQQj",
        "colab": {
          "base_uri": "https://localhost:8080/",
          "height": 363
        },
        "outputId": "af5db880-1ec2-423c-a28a-d81f22cafb7f"
      },
      "source": [
        "# Lets check vif scores after removing basement from features which are left.\n",
        "\n",
        "calc_vif(X.drop(['bbratio','bedrooms','areaperbedroom','semi-furnished','basement'],1))"
      ],
      "execution_count": null,
      "outputs": [
        {
          "output_type": "execute_result",
          "data": {
            "text/html": [
              "<div>\n",
              "<style scoped>\n",
              "    .dataframe tbody tr th:only-of-type {\n",
              "        vertical-align: middle;\n",
              "    }\n",
              "\n",
              "    .dataframe tbody tr th {\n",
              "        vertical-align: top;\n",
              "    }\n",
              "\n",
              "    .dataframe thead th {\n",
              "        text-align: right;\n",
              "    }\n",
              "</style>\n",
              "<table border=\"1\" class=\"dataframe\">\n",
              "  <thead>\n",
              "    <tr style=\"text-align: right;\">\n",
              "      <th></th>\n",
              "      <th>feature</th>\n",
              "      <th>VIF</th>\n",
              "    </tr>\n",
              "  </thead>\n",
              "  <tbody>\n",
              "    <tr>\n",
              "      <th>0</th>\n",
              "      <td>area</td>\n",
              "      <td>4.362124</td>\n",
              "    </tr>\n",
              "    <tr>\n",
              "      <th>1</th>\n",
              "      <td>bathrooms</td>\n",
              "      <td>1.589915</td>\n",
              "    </tr>\n",
              "    <tr>\n",
              "      <th>2</th>\n",
              "      <td>stories</td>\n",
              "      <td>2.206626</td>\n",
              "    </tr>\n",
              "    <tr>\n",
              "      <th>3</th>\n",
              "      <td>mainroad</td>\n",
              "      <td>4.583261</td>\n",
              "    </tr>\n",
              "    <tr>\n",
              "      <th>4</th>\n",
              "      <td>guestroom</td>\n",
              "      <td>1.291867</td>\n",
              "    </tr>\n",
              "    <tr>\n",
              "      <th>5</th>\n",
              "      <td>hotwaterheating</td>\n",
              "      <td>1.079947</td>\n",
              "    </tr>\n",
              "    <tr>\n",
              "      <th>6</th>\n",
              "      <td>airconditioning</td>\n",
              "      <td>1.749777</td>\n",
              "    </tr>\n",
              "    <tr>\n",
              "      <th>7</th>\n",
              "      <td>parking</td>\n",
              "      <td>1.986493</td>\n",
              "    </tr>\n",
              "    <tr>\n",
              "      <th>8</th>\n",
              "      <td>prefarea</td>\n",
              "      <td>1.442071</td>\n",
              "    </tr>\n",
              "    <tr>\n",
              "      <th>9</th>\n",
              "      <td>unfurnished</td>\n",
              "      <td>1.340895</td>\n",
              "    </tr>\n",
              "  </tbody>\n",
              "</table>\n",
              "</div>"
            ],
            "text/plain": [
              "           feature       VIF\n",
              "0             area  4.362124\n",
              "1        bathrooms  1.589915\n",
              "2          stories  2.206626\n",
              "3         mainroad  4.583261\n",
              "4        guestroom  1.291867\n",
              "5  hotwaterheating  1.079947\n",
              "6  airconditioning  1.749777\n",
              "7          parking  1.986493\n",
              "8         prefarea  1.442071\n",
              "9      unfurnished  1.340895"
            ]
          },
          "metadata": {},
          "execution_count": 30
        }
      ]
    },
    {
      "cell_type": "markdown",
      "metadata": {
        "id": "mThOe051uQQj"
      },
      "source": [
        "\n",
        "\n",
        "So in total  we have removed 5 features namely \"bedrooms\",\"bbratio\",\"areaperbedroom\",\"semi-furnished\" and \"basement\".\n",
        "\n",
        "we have our final list of input features. Lets drop these 5 features from X_train as well and rebuild ypur model.\n",
        "\n",
        "## Making Predictions by rebuilding Model\n",
        "\n",
        "<p style='text-align: right;'> 5 points</p>\n",
        "\n",
        "\n",
        "Lets do another test train split after dropping highly correlated variables and insignificant variables from X.\n"
      ]
    },
    {
      "cell_type": "code",
      "metadata": {
        "colab": {
          "base_uri": "https://localhost:8080/",
          "height": 243
        },
        "id": "pywig-2BkMvD",
        "outputId": "a3992590-7a54-484d-8264-1407854151e1"
      },
      "source": [
        "housing.head()"
      ],
      "execution_count": null,
      "outputs": [
        {
          "output_type": "execute_result",
          "data": {
            "text/html": [
              "<div>\n",
              "<style scoped>\n",
              "    .dataframe tbody tr th:only-of-type {\n",
              "        vertical-align: middle;\n",
              "    }\n",
              "\n",
              "    .dataframe tbody tr th {\n",
              "        vertical-align: top;\n",
              "    }\n",
              "\n",
              "    .dataframe thead th {\n",
              "        text-align: right;\n",
              "    }\n",
              "</style>\n",
              "<table border=\"1\" class=\"dataframe\">\n",
              "  <thead>\n",
              "    <tr style=\"text-align: right;\">\n",
              "      <th></th>\n",
              "      <th>price</th>\n",
              "      <th>area</th>\n",
              "      <th>bedrooms</th>\n",
              "      <th>bathrooms</th>\n",
              "      <th>stories</th>\n",
              "      <th>mainroad</th>\n",
              "      <th>guestroom</th>\n",
              "      <th>basement</th>\n",
              "      <th>hotwaterheating</th>\n",
              "      <th>airconditioning</th>\n",
              "      <th>parking</th>\n",
              "      <th>prefarea</th>\n",
              "      <th>semi-furnished</th>\n",
              "      <th>unfurnished</th>\n",
              "      <th>areaperbedroom</th>\n",
              "      <th>bbratio</th>\n",
              "    </tr>\n",
              "  </thead>\n",
              "  <tbody>\n",
              "    <tr>\n",
              "      <th>0</th>\n",
              "      <td>1.000000</td>\n",
              "      <td>0.396564</td>\n",
              "      <td>0.6</td>\n",
              "      <td>0.333333</td>\n",
              "      <td>0.666667</td>\n",
              "      <td>1.0</td>\n",
              "      <td>0.0</td>\n",
              "      <td>0.0</td>\n",
              "      <td>0.0</td>\n",
              "      <td>1.0</td>\n",
              "      <td>0.666667</td>\n",
              "      <td>1.0</td>\n",
              "      <td>0.0</td>\n",
              "      <td>0.0</td>\n",
              "      <td>0.237016</td>\n",
              "      <td>0.4</td>\n",
              "    </tr>\n",
              "    <tr>\n",
              "      <th>1</th>\n",
              "      <td>0.909091</td>\n",
              "      <td>0.502405</td>\n",
              "      <td>0.6</td>\n",
              "      <td>1.000000</td>\n",
              "      <td>1.000000</td>\n",
              "      <td>1.0</td>\n",
              "      <td>0.0</td>\n",
              "      <td>0.0</td>\n",
              "      <td>0.0</td>\n",
              "      <td>1.0</td>\n",
              "      <td>1.000000</td>\n",
              "      <td>0.0</td>\n",
              "      <td>0.0</td>\n",
              "      <td>0.0</td>\n",
              "      <td>0.298923</td>\n",
              "      <td>1.0</td>\n",
              "    </tr>\n",
              "    <tr>\n",
              "      <th>2</th>\n",
              "      <td>0.909091</td>\n",
              "      <td>0.571134</td>\n",
              "      <td>0.4</td>\n",
              "      <td>0.333333</td>\n",
              "      <td>0.333333</td>\n",
              "      <td>1.0</td>\n",
              "      <td>0.0</td>\n",
              "      <td>1.0</td>\n",
              "      <td>0.0</td>\n",
              "      <td>0.0</td>\n",
              "      <td>0.666667</td>\n",
              "      <td>1.0</td>\n",
              "      <td>1.0</td>\n",
              "      <td>0.0</td>\n",
              "      <td>0.472584</td>\n",
              "      <td>0.6</td>\n",
              "    </tr>\n",
              "    <tr>\n",
              "      <th>3</th>\n",
              "      <td>0.906061</td>\n",
              "      <td>0.402062</td>\n",
              "      <td>0.6</td>\n",
              "      <td>0.333333</td>\n",
              "      <td>0.333333</td>\n",
              "      <td>1.0</td>\n",
              "      <td>0.0</td>\n",
              "      <td>1.0</td>\n",
              "      <td>0.0</td>\n",
              "      <td>1.0</td>\n",
              "      <td>1.000000</td>\n",
              "      <td>1.0</td>\n",
              "      <td>0.0</td>\n",
              "      <td>0.0</td>\n",
              "      <td>0.240232</td>\n",
              "      <td>0.4</td>\n",
              "    </tr>\n",
              "    <tr>\n",
              "      <th>4</th>\n",
              "      <td>0.836364</td>\n",
              "      <td>0.396564</td>\n",
              "      <td>0.6</td>\n",
              "      <td>0.000000</td>\n",
              "      <td>0.333333</td>\n",
              "      <td>1.0</td>\n",
              "      <td>1.0</td>\n",
              "      <td>1.0</td>\n",
              "      <td>0.0</td>\n",
              "      <td>1.0</td>\n",
              "      <td>0.666667</td>\n",
              "      <td>0.0</td>\n",
              "      <td>0.0</td>\n",
              "      <td>0.0</td>\n",
              "      <td>0.237016</td>\n",
              "      <td>0.1</td>\n",
              "    </tr>\n",
              "  </tbody>\n",
              "</table>\n",
              "</div>"
            ],
            "text/plain": [
              "      price      area  bedrooms  ...  unfurnished  areaperbedroom  bbratio\n",
              "0  1.000000  0.396564       0.6  ...          0.0        0.237016      0.4\n",
              "1  0.909091  0.502405       0.6  ...          0.0        0.298923      1.0\n",
              "2  0.909091  0.571134       0.4  ...          0.0        0.472584      0.6\n",
              "3  0.906061  0.402062       0.6  ...          0.0        0.240232      0.4\n",
              "4  0.836364  0.396564       0.6  ...          0.0        0.237016      0.1\n",
              "\n",
              "[5 rows x 16 columns]"
            ]
          },
          "metadata": {},
          "execution_count": 31
        }
      ]
    },
    {
      "cell_type": "code",
      "metadata": {
        "id": "cIahtIDruQQj"
      },
      "source": [
        "# Putting feature variable to X\n",
        "X =housing[['area','bathrooms', 'stories', 'mainroad', 'guestroom', 'basement', 'hotwaterheating', 'airconditioning',\n",
        "       'parking', 'prefarea', 'unfurnished']]\n",
        "\n",
        "# Putting response variable to y ie. price\n",
        "y = housing['price']"
      ],
      "execution_count": null,
      "outputs": []
    },
    {
      "cell_type": "code",
      "metadata": {
        "id": "ASET6X4yuQQj"
      },
      "source": [
        "# test train split again on X and y\n",
        "from sklearn.model_selection import train_test_split\n",
        "x_train,x_test,y_train,y_test=train_test_split(X,y,test_size=0.3,random_state=100)"
      ],
      "execution_count": null,
      "outputs": []
    },
    {
      "cell_type": "markdown",
      "metadata": {
        "id": "Reg63uq4uQQj"
      },
      "source": [
        "Building our linear model again"
      ]
    },
    {
      "cell_type": "code",
      "metadata": {
        "id": "WAyP_GJ-uQQj"
      },
      "source": [
        "# Adding a constant column to our dataframe\n",
        " \n",
        "\n",
        "X_train = sm.add_constant(x_train)\n",
        "# Adding  constant variable to test dataframe\n",
        "X_test = sm.add_constant(x_test)\n",
        "\n",
        "# create a second fitted model\n",
        "lm_2 = sm.OLS(y_train,X_train).fit()"
      ],
      "execution_count": null,
      "outputs": []
    },
    {
      "cell_type": "code",
      "metadata": {
        "colab": {
          "base_uri": "https://localhost:8080/"
        },
        "id": "1othf1Ci0TCc",
        "outputId": "3b21f96a-a954-43a3-a950-ab4136b47181"
      },
      "source": [
        "X_test.shape"
      ],
      "execution_count": null,
      "outputs": [
        {
          "output_type": "execute_result",
          "data": {
            "text/plain": [
              "(164, 12)"
            ]
          },
          "metadata": {},
          "execution_count": 35
        }
      ]
    },
    {
      "cell_type": "code",
      "metadata": {
        "colab": {
          "base_uri": "https://localhost:8080/"
        },
        "id": "4I5RuWvt2PrV",
        "outputId": "36c66fce-943b-4419-b1fe-3e1e71f8af98"
      },
      "source": [
        "X_train.shape"
      ],
      "execution_count": null,
      "outputs": [
        {
          "output_type": "execute_result",
          "data": {
            "text/plain": [
              "(381, 12)"
            ]
          },
          "metadata": {},
          "execution_count": 36
        }
      ]
    },
    {
      "cell_type": "code",
      "metadata": {
        "colab": {
          "base_uri": "https://localhost:8080/"
        },
        "id": "BDnVLDYC2wnQ",
        "outputId": "7547c14c-d871-4964-d92a-5a5413cb040f"
      },
      "source": [
        "x_test.shape"
      ],
      "execution_count": null,
      "outputs": [
        {
          "output_type": "execute_result",
          "data": {
            "text/plain": [
              "(164, 11)"
            ]
          },
          "metadata": {},
          "execution_count": 37
        }
      ]
    },
    {
      "cell_type": "code",
      "metadata": {
        "colab": {
          "base_uri": "https://localhost:8080/"
        },
        "id": "d1zjL0GF20iN",
        "outputId": "0318a5e5-61b3-4f84-b99e-88f27ab25398"
      },
      "source": [
        "x_train.shape"
      ],
      "execution_count": null,
      "outputs": [
        {
          "output_type": "execute_result",
          "data": {
            "text/plain": [
              "(381, 11)"
            ]
          },
          "metadata": {},
          "execution_count": 38
        }
      ]
    },
    {
      "cell_type": "code",
      "metadata": {
        "id": "UO3IjbNeuQQj",
        "colab": {
          "base_uri": "https://localhost:8080/"
        },
        "outputId": "21bd4d0c-40ff-4a04-96cd-05d8f3fa876e"
      },
      "source": [
        "#print model 2 summary\n",
        "print(lm_2.summary())"
      ],
      "execution_count": null,
      "outputs": [
        {
          "output_type": "stream",
          "name": "stdout",
          "text": [
            "                            OLS Regression Results                            \n",
            "==============================================================================\n",
            "Dep. Variable:                  price   R-squared:                       0.680\n",
            "Model:                            OLS   Adj. R-squared:                  0.671\n",
            "Method:                 Least Squares   F-statistic:                     71.31\n",
            "Date:                Wed, 15 Dec 2021   Prob (F-statistic):           2.73e-84\n",
            "Time:                        03:07:55   Log-Likelihood:                 380.96\n",
            "No. Observations:                 381   AIC:                            -737.9\n",
            "Df Residuals:                     369   BIC:                            -690.6\n",
            "Df Model:                          11                                         \n",
            "Covariance Type:            nonrobust                                         \n",
            "===================================================================================\n",
            "                      coef    std err          t      P>|t|      [0.025      0.975]\n",
            "-----------------------------------------------------------------------------------\n",
            "const               0.0319      0.015      2.142      0.033       0.003       0.061\n",
            "area                0.3006      0.038      7.851      0.000       0.225       0.376\n",
            "bathrooms           0.2947      0.032      9.132      0.000       0.231       0.358\n",
            "stories             0.1178      0.018      6.654      0.000       0.083       0.153\n",
            "mainroad            0.0488      0.014      3.423      0.001       0.021       0.077\n",
            "guestroom           0.0301      0.014      2.211      0.028       0.003       0.057\n",
            "basement            0.0239      0.011      2.183      0.030       0.002       0.045\n",
            "hotwaterheating     0.0864      0.022      4.014      0.000       0.044       0.129\n",
            "airconditioning     0.0665      0.011      5.895      0.000       0.044       0.089\n",
            "parking             0.0629      0.018      3.501      0.001       0.028       0.098\n",
            "prefarea            0.0596      0.012      5.061      0.000       0.036       0.083\n",
            "unfurnished        -0.0323      0.010     -3.169      0.002      -0.052      -0.012\n",
            "==============================================================================\n",
            "Omnibus:                       97.661   Durbin-Watson:                   2.097\n",
            "Prob(Omnibus):                  0.000   Jarque-Bera (JB):              325.388\n",
            "Skew:                           1.130   Prob(JB):                     2.20e-71\n",
            "Kurtosis:                       6.923   Cond. No.                         13.3\n",
            "==============================================================================\n",
            "\n",
            "Warnings:\n",
            "[1] Standard Errors assume that the covariance matrix of the errors is correctly specified.\n"
          ]
        }
      ]
    },
    {
      "cell_type": "code",
      "metadata": {
        "id": "4j27ZSXpuQQj"
      },
      "source": [
        "# Making predictions\n",
        "y_pred = lm_2.predict(X_test)"
      ],
      "execution_count": null,
      "outputs": []
    },
    {
      "cell_type": "markdown",
      "metadata": {
        "id": "giJK8ub3uQQj"
      },
      "source": [
        "## Model Evaluation\n",
        "\n",
        "\n",
        " \n",
        "\n",
        "\n",
        "The skill or performance of a regression model must be reported as an error in those predictions.\n",
        "\n",
        "\n",
        "\n"
      ]
    },
    {
      "cell_type": "code",
      "metadata": {
        "id": "Fo3zGhbnuQQk",
        "colab": {
          "base_uri": "https://localhost:8080/",
          "height": 295
        },
        "outputId": "eef3652d-b1ea-4da5-fa30-5a1123bbd879"
      },
      "source": [
        "# Actual vs Predicted graph as below\n",
        "c = [i for i in range(1,165,1)]\n",
        "fig = plt.figure()\n",
        "plt.plot(range(len(y_test)), y_test, color='blue')\n",
        "plt.plot(range(len(y_pred)), y_pred, color='red')\n",
        "plt.title('Actual vs Predicted')\n",
        "plt.xlabel('index')\n",
        "plt.ylabel('housing price')\n",
        "plt.show()"
      ],
      "execution_count": null,
      "outputs": [
        {
          "output_type": "display_data",
          "data": {
            "image/png": "[encoded data removed]",
            "text/plain": [
              "<Figure size 432x288 with 1 Axes>"
            ]
          },
          "metadata": {
            "needs_background": "light"
          }
        }
      ]
    },
    {
      "cell_type": "code",
      "metadata": {
        "id": "sfA7h1bnuQQk",
        "colab": {
          "base_uri": "https://localhost:8080/",
          "height": 295
        },
        "outputId": "d4105538-49a1-42bf-abde-d10404dc3090"
      },
      "source": [
        "# Plotting y_test and y_pred scatter plot to understand the spread.\n",
        "fig = plt.figure()\n",
        "plt.scatter(y_test,y_pred, color='blue')\n",
        "\n",
        "plt.title('Actual vs Predicted')\n",
        "plt.xlabel('index')\n",
        "plt.ylabel('housing price')\n",
        "plt.show()"
      ],
      "execution_count": null,
      "outputs": [
        {
          "output_type": "display_data",
          "data": {
            "image/png": "[encoded data removed]",
            "text/plain": [
              "<Figure size 432x288 with 1 Axes>"
            ]
          },
          "metadata": {
            "needs_background": "light"
          }
        }
      ]
    },
    {
      "cell_type": "code",
      "metadata": {
        "id": "Dbk2WeJ8uQQk",
        "colab": {
          "base_uri": "https://localhost:8080/",
          "height": 295
        },
        "outputId": "9554fd54-6f9d-41d3-d95d-274b3a508aa2"
      },
      "source": [
        "# Plotting line chart of Error terms\n",
        "fig = plt.figure()\n",
        "c = [i for i in range(1,165,1)]\n",
        "plt.plot(c,y_test-y_pred, color='blue')\n",
        "\n",
        "plt.title('Error terms')\n",
        "plt.xlabel('index')\n",
        "plt.ylabel('ytest-ypred')\n",
        "plt.show()"
      ],
      "execution_count": null,
      "outputs": [
        {
          "output_type": "display_data",
          "data": {
            "image/png": "[encoded data removed]",
            "text/plain": [
              "<Figure size 432x288 with 1 Axes>"
            ]
          },
          "metadata": {
            "needs_background": "light"
          }
        }
      ]
    },
    {
      "cell_type": "code",
      "metadata": {
        "id": "kVpLmiaLuQQk",
        "colab": {
          "base_uri": "https://localhost:8080/",
          "height": 350
        },
        "outputId": "df109278-aabf-40e3-d038-39cd9104bde9"
      },
      "source": [
        "# Plotting the error terms as dist plot to understand the distribution.\n",
        "fig = plt.figure()\n",
        "sns.distplot(y_test-y_pred, bins=50, color='blue')\n",
        "\n",
        "plt.title('Error terms')\n",
        "plt.xlabel('ytest-ypred')\n",
        "plt.ylabel('index')\n",
        "plt.show()"
      ],
      "execution_count": null,
      "outputs": [
        {
          "output_type": "stream",
          "name": "stderr",
          "text": [
            "/usr/local/lib/python3.7/dist-packages/seaborn/distributions.py:2619: FutureWarning: `distplot` is a deprecated function and will be removed in a future version. Please adapt your code to use either `displot` (a figure-level function with similar flexibility) or `histplot` (an axes-level function for histograms).\n",
            "  warnings.warn(msg, FutureWarning)\n"
          ]
        },
        {
          "output_type": "display_data",
          "data": {
            "image/png": "[encoded data removed]",
            "text/plain": [
              "<Figure size 432x288 with 1 Axes>"
            ]
          },
          "metadata": {
            "needs_background": "light"
          }
        }
      ]
    },
    {
      "cell_type": "markdown",
      "metadata": {
        "id": "nrrP-XaRuQQk"
      },
      "source": [
        "**Regression Metrics**\n",
        "\n",
        "\n",
        "\n",
        "There are three error metrics that are commonly used for evaluating and reporting the performance of a regression model; they are:\n",
        "\n",
        "1. Mean Squared Error (MSE).\n",
        "2. Root Mean Squared Error (RMSE).\n",
        "3. Mean Absolute Error (MAE)\n",
        "\n"
      ]
    },
    {
      "cell_type": "code",
      "metadata": {
        "id": "FY8ZO5ODuQQk",
        "colab": {
          "base_uri": "https://localhost:8080/"
        },
        "outputId": "5dc4b9d0-6be3-4bf3-eb2b-a8b2386959c7"
      },
      "source": [
        "#import metrics module\n",
        "from sklearn.metrics import mean_squared_error\n",
        "mse=mean_squared_error(y_test,y_pred)\n",
        "rmse=np.sqrt(mse)\n",
        "rmse\n",
        "\n",
        "#calculate and print RMSE\n"
      ],
      "execution_count": null,
      "outputs": [
        {
          "output_type": "execute_result",
          "data": {
            "text/plain": [
              "0.09834680988986308"
            ]
          },
          "metadata": {},
          "execution_count": 45
        }
      ]
    },
    {
      "cell_type": "code",
      "metadata": {
        "id": "54E2QU7JuQQl",
        "colab": {
          "base_uri": "https://localhost:8080/"
        },
        "outputId": "ba4fdab6-1484-4f55-b1c6-dbea2e14d50b"
      },
      "source": [
        "#calculate and print MSE\n",
        "mse=mean_squared_error(y_test,y_pred)\n",
        "mse"
      ],
      "execution_count": null,
      "outputs": [
        {
          "output_type": "execute_result",
          "data": {
            "text/plain": [
              "0.009672095015512869"
            ]
          },
          "metadata": {},
          "execution_count": 46
        }
      ]
    },
    {
      "cell_type": "code",
      "metadata": {
        "id": "nmxd5sq8uQQl",
        "colab": {
          "base_uri": "https://localhost:8080/"
        },
        "outputId": "7894561f-68d8-4f30-b133-a323c284b76d"
      },
      "source": [
        "#calculate and print MAE\n",
        "from sklearn.metrics import mean_absolute_error as mae\n",
        "MAE=mae(y_test,y_pred)\n",
        "MAE"
      ],
      "execution_count": null,
      "outputs": [
        {
          "output_type": "execute_result",
          "data": {
            "text/plain": [
              "0.07207530515287305"
            ]
          },
          "metadata": {},
          "execution_count": 47
        }
      ]
    },
    {
      "cell_type": "markdown",
      "metadata": {
        "id": "4zjFbzLbuQQl"
      },
      "source": [
        "## Feature Selection\n",
        "\n",
        "\n",
        "\n",
        "\n",
        "Once you have obtained your initial error metric/s, take note of which X’s have minimal impacts on y. Removing some of these features may result in an increased accuracy of your model.\n",
        "\n",
        "So, We begin a process of trial and error, where the process is started over again, until a satisfactory model is produced.\n",
        "\n",
        "To do this we already have a ready made library called RFE. \n",
        "So lets do feature selection using RFE using LinearRegression module.\n",
        "\n",
        "\n",
        "\n",
        "\n"
      ]
    },
    {
      "cell_type": "code",
      "metadata": {
        "id": "l-bB1AFeuQQl"
      },
      "source": [
        "# Importing RFE and LinearRegression\n",
        "from sklearn.feature_selection import RFE\n",
        "from sklearn.linear_model import LinearRegression"
      ],
      "execution_count": null,
      "outputs": []
    },
    {
      "cell_type": "code",
      "metadata": {
        "id": "IHUuEWuXuQQl",
        "colab": {
          "base_uri": "https://localhost:8080/"
        },
        "outputId": "3e273a77-530e-46ec-82d8-b3230b64aa42"
      },
      "source": [
        " lm = LinearRegression()\n",
        "rfe =     RFE(lm)   \n",
        "rfe= rfe.fit(X_train,y_train) \n",
        "print(rfe.support_)\n",
        "print(rfe.ranking_)\n",
        "\n",
        "\n",
        " "
      ],
      "execution_count": null,
      "outputs": [
        {
          "output_type": "stream",
          "name": "stdout",
          "text": [
            "[False  True  True  True False False False  True  True False  True False]\n",
            "[7 1 1 1 3 4 6 1 1 2 1 5]\n"
          ]
        }
      ]
    },
    {
      "cell_type": "code",
      "metadata": {
        "id": "l7lK-a8MuQQl",
        "colab": {
          "base_uri": "https://localhost:8080/"
        },
        "outputId": "49b87efd-e013-495a-8cfc-55367ca0e9b3"
      },
      "source": [
        "#Print the total no. of features in X\n",
        "print(len(X.columns))\n",
        "#Get columns which are supported by RFE\n",
        "col=X_train.columns[rfe.support_]\n",
        "print(col)\n",
        "\n",
        "\n"
      ],
      "execution_count": null,
      "outputs": [
        {
          "output_type": "stream",
          "name": "stdout",
          "text": [
            "11\n",
            "Index(['area', 'bathrooms', 'stories', 'hotwaterheating', 'airconditioning',\n",
            "       'prefarea'],\n",
            "      dtype='object')\n"
          ]
        }
      ]
    },
    {
      "cell_type": "markdown",
      "metadata": {
        "id": "s5pqTRFquQQl"
      },
      "source": [
        "As you can see that 6 features got selected out of initial 11 features.\n",
        "\n",
        "## Visualising Data\n",
        "\n"
      ]
    },
    {
      "cell_type": "code",
      "metadata": {
        "id": "grpsP8FGuQQl",
        "colab": {
          "base_uri": "https://localhost:8080/",
          "height": 1000
        },
        "outputId": "fee0cbbd-cac9-4a11-c284-09f9ca06c48c"
      },
      "source": [
        "# Let's plot a pair plot of all RFE selected variables in housing dataframe\n",
        "sns.pairplot(housing[col])"
      ],
      "execution_count": null,
      "outputs": [
        {
          "output_type": "execute_result",
          "data": {
            "text/plain": [
              "<seaborn.axisgrid.PairGrid at 0x7f6b774e1550>"
            ]
          },
          "metadata": {},
          "execution_count": 51
        },
        {
          "output_type": "display_data",
          "data": {
            "image/png": "[encoded data removed]",
            "text/plain": [
              "<Figure size 1080x1080 with 42 Axes>"
            ]
          },
          "metadata": {
            "needs_background": "light"
          }
        }
      ]
    },
    {
      "cell_type": "code",
      "metadata": {
        "id": "Qm2kK5E8uQQm",
        "colab": {
          "base_uri": "https://localhost:8080/",
          "height": 338
        },
        "outputId": "d1a504ed-8fbe-4484-e591-5d47211c81d2"
      },
      "source": [
        "# # Visualise the relationship between the features and the response using scatterplots (use size=7 and aspect=0.7 )\n",
        "p=sns.pairplot(housing,x_vars=col,y_vars= 'price', size=7, aspect=0.7)\n"
      ],
      "execution_count": null,
      "outputs": [
        {
          "output_type": "stream",
          "name": "stderr",
          "text": [
            "/usr/local/lib/python3.7/dist-packages/seaborn/axisgrid.py:2076: UserWarning: The `size` parameter has been renamed to `height`; please update your code.\n",
            "  warnings.warn(msg, UserWarning)\n"
          ]
        },
        {
          "output_type": "display_data",
          "data": {
            "image/png": "[encoded data removed]",
            "text/plain": [
              "<Figure size 2116.8x504 with 6 Axes>"
            ]
          },
          "metadata": {
            "needs_background": "light"
          }
        }
      ]
    },
    {
      "cell_type": "markdown",
      "metadata": {
        "id": "vdSZjtoUuQQm"
      },
      "source": [
        "So above you can see that the relationship between target and features shows some constant relation.\n",
        "Lets try our luck if this model performs better that you last model.\n",
        "\n",
        "\n",
        "## Building model again with above selected features.\n",
        "\n",
        "\n",
        "\n",
        "So this would be your third model"
      ]
    },
    {
      "cell_type": "code",
      "metadata": {
        "id": "VNMGMwq7uQQm"
      },
      "source": [
        "# Creating X_train dataframe with RFE selected variables\n",
        "X_train_fre =X_train[col]\n"
      ],
      "execution_count": null,
      "outputs": []
    },
    {
      "cell_type": "code",
      "metadata": {
        "id": "86VZbjypuQQm"
      },
      "source": [
        "# Adding a constant variable in X_train_rfe\n",
        "X_train_rfe = sm.add_constant(X_train_fre)"
      ],
      "execution_count": null,
      "outputs": []
    },
    {
      "cell_type": "code",
      "metadata": {
        "id": "VFv2dVdMuQQm"
      },
      "source": [
        "# fitting your third linear model with y_train and X_train_rfe\n",
        "lm_3 = sm.OLS(y_train,X_train_rfe).fit()"
      ],
      "execution_count": null,
      "outputs": []
    },
    {
      "cell_type": "code",
      "metadata": {
        "id": "jaFHTm9KuQQm",
        "colab": {
          "base_uri": "https://localhost:8080/"
        },
        "outputId": "7243d583-1601-4de5-ae9d-d366c48891fa"
      },
      "source": [
        "#print model 3 summary\n",
        "print(lm_3.summary())"
      ],
      "execution_count": null,
      "outputs": [
        {
          "output_type": "stream",
          "name": "stdout",
          "text": [
            "                            OLS Regression Results                            \n",
            "==============================================================================\n",
            "Dep. Variable:                  price   R-squared:                       0.631\n",
            "Model:                            OLS   Adj. R-squared:                  0.625\n",
            "Method:                 Least Squares   F-statistic:                     106.7\n",
            "Date:                Wed, 15 Dec 2021   Prob (F-statistic):           6.98e-78\n",
            "Time:                        03:08:12   Log-Likelihood:                 353.86\n",
            "No. Observations:                 381   AIC:                            -693.7\n",
            "Df Residuals:                     374   BIC:                            -666.1\n",
            "Df Model:                           6                                         \n",
            "Covariance Type:            nonrobust                                         \n",
            "===================================================================================\n",
            "                      coef    std err          t      P>|t|      [0.025      0.975]\n",
            "-----------------------------------------------------------------------------------\n",
            "const               0.0609      0.011      5.793      0.000       0.040       0.082\n",
            "area                0.3949      0.037     10.537      0.000       0.321       0.469\n",
            "bathrooms           0.3228      0.034      9.565      0.000       0.256       0.389\n",
            "stories             0.1133      0.018      6.271      0.000       0.078       0.149\n",
            "hotwaterheating     0.0995      0.023      4.359      0.000       0.055       0.144\n",
            "airconditioning     0.0774      0.012      6.556      0.000       0.054       0.101\n",
            "prefarea            0.0736      0.012      6.017      0.000       0.050       0.098\n",
            "==============================================================================\n",
            "Omnibus:                       92.802   Durbin-Watson:                   2.129\n",
            "Prob(Omnibus):                  0.000   Jarque-Bera (JB):              318.088\n",
            "Skew:                           1.061   Prob(JB):                     8.47e-70\n",
            "Kurtosis:                       6.941   Cond. No.                         9.11\n",
            "==============================================================================\n",
            "\n",
            "Warnings:\n",
            "[1] Standard Errors assume that the covariance matrix of the errors is correctly specified.\n"
          ]
        }
      ]
    },
    {
      "cell_type": "code",
      "metadata": {
        "id": "53rgAUMfuQQm",
        "colab": {
          "base_uri": "https://localhost:8080/",
          "height": 238
        },
        "outputId": "0806af5a-7c72-4e18-a3bc-4c8d4966da48"
      },
      "source": [
        "# Calculating Vif scores on housing data with selected columns by RFE\n",
        "calc_vif(housing[col])"
      ],
      "execution_count": null,
      "outputs": [
        {
          "output_type": "execute_result",
          "data": {
            "text/html": [
              "<div>\n",
              "<style scoped>\n",
              "    .dataframe tbody tr th:only-of-type {\n",
              "        vertical-align: middle;\n",
              "    }\n",
              "\n",
              "    .dataframe tbody tr th {\n",
              "        vertical-align: top;\n",
              "    }\n",
              "\n",
              "    .dataframe thead th {\n",
              "        text-align: right;\n",
              "    }\n",
              "</style>\n",
              "<table border=\"1\" class=\"dataframe\">\n",
              "  <thead>\n",
              "    <tr style=\"text-align: right;\">\n",
              "      <th></th>\n",
              "      <th>feature</th>\n",
              "      <th>VIF</th>\n",
              "    </tr>\n",
              "  </thead>\n",
              "  <tbody>\n",
              "    <tr>\n",
              "      <th>0</th>\n",
              "      <td>area</td>\n",
              "      <td>2.245213</td>\n",
              "    </tr>\n",
              "    <tr>\n",
              "      <th>1</th>\n",
              "      <td>bathrooms</td>\n",
              "      <td>1.546979</td>\n",
              "    </tr>\n",
              "    <tr>\n",
              "      <th>2</th>\n",
              "      <td>stories</td>\n",
              "      <td>1.983682</td>\n",
              "    </tr>\n",
              "    <tr>\n",
              "      <th>3</th>\n",
              "      <td>hotwaterheating</td>\n",
              "      <td>1.064857</td>\n",
              "    </tr>\n",
              "    <tr>\n",
              "      <th>4</th>\n",
              "      <td>airconditioning</td>\n",
              "      <td>1.714386</td>\n",
              "    </tr>\n",
              "    <tr>\n",
              "      <th>5</th>\n",
              "      <td>prefarea</td>\n",
              "      <td>1.384793</td>\n",
              "    </tr>\n",
              "  </tbody>\n",
              "</table>\n",
              "</div>"
            ],
            "text/plain": [
              "           feature       VIF\n",
              "0             area  2.245213\n",
              "1        bathrooms  1.546979\n",
              "2          stories  1.983682\n",
              "3  hotwaterheating  1.064857\n",
              "4  airconditioning  1.714386\n",
              "5         prefarea  1.384793"
            ]
          },
          "metadata": {},
          "execution_count": 57
        }
      ]
    },
    {
      "cell_type": "markdown",
      "metadata": {
        "id": "uE3KI7kzuQQn"
      },
      "source": [
        "Wohoo! all these features looks good .\n",
        "\n",
        "Now let's use our model to make predictions.\n"
      ]
    },
    {
      "cell_type": "code",
      "metadata": {
        "id": "emxMNlk6uQQn"
      },
      "source": [
        "# Creating X_test dataframe with RFE selected variables\n",
        "X_test_rfe = X_test[col]\n",
        "\n",
        "# Adding a constant variable to X_test_rfe\n",
        "X_test_rfe = sm.add_constant(X_test_rfe)\n",
        "\n",
        "# Making predictions\n",
        "y_pred = lm_3.predict(X_test_rfe)"
      ],
      "execution_count": null,
      "outputs": []
    },
    {
      "cell_type": "markdown",
      "metadata": {
        "id": "jqnQujxDuQQn"
      },
      "source": [
        "Now again lets evaluate oour third model.\n",
        "\n"
      ]
    },
    {
      "cell_type": "code",
      "metadata": {
        "id": "1nCc8WFguQQn",
        "colab": {
          "base_uri": "https://localhost:8080/",
          "height": 306
        },
        "outputId": "91eadea6-098a-458b-b670-4ac6f44fc309"
      },
      "source": [
        "# Plotting y_test and y_pred to understand the spread.\n",
        "plt.scatter(y_test,y_pred)\n",
        "fig.suptitle('y_test v y_pred',fontsize=20)\n",
        "plt.xlabel('y_test',fontsize=18)\n",
        "plt.ylabel('y_pred',fontsize=18)"
      ],
      "execution_count": null,
      "outputs": [
        {
          "output_type": "execute_result",
          "data": {
            "text/plain": [
              "Text(0, 0.5, 'y_pred')"
            ]
          },
          "metadata": {},
          "execution_count": 59
        },
        {
          "output_type": "display_data",
          "data": {
            "image/png": "[encoded data removed]",
            "text/plain": [
              "<Figure size 432x288 with 1 Axes>"
            ]
          },
          "metadata": {
            "needs_background": "light"
          }
        }
      ]
    },
    {
      "cell_type": "code",
      "metadata": {
        "id": "JhWGollWuQQn",
        "colab": {
          "base_uri": "https://localhost:8080/"
        },
        "outputId": "a2082202-bece-44e2-bcb3-745e1836dc4e"
      },
      "source": [
        "# Print RMSE, MSE and MAE scores for your third model\n",
        "print('RMSE:',np.sqrt(mean_squared_error(y_test,y_pred)))\n",
        "print('MSE:',mean_squared_error(y_test,y_pred))\n",
        "print('MAE:',mae(y_test,y_pred))"
      ],
      "execution_count": null,
      "outputs": [
        {
          "output_type": "stream",
          "name": "stdout",
          "text": [
            "RMSE: 0.10615015826267064\n",
            "MSE: 0.011267856099190026\n",
            "MAE: 0.07902347035966725\n"
          ]
        }
      ]
    },
    {
      "cell_type": "markdown",
      "metadata": {
        "id": "YohueQaNuQQn"
      },
      "source": [
        "## Model Selection\n",
        "\n",
        "\n",
        "\n",
        "\n",
        "Seeing the results we can see that there is not much change in  model performance compared to your second model.\n",
        "Infact rmse score got increased. The reason could be that we might have removed a/some features which were of importance.\n",
        "\n",
        "May be your linear model wants some other features also to explain your target variable. \n",
        "\n",
        "We want you to underatand summary of all three models together"
      ]
    },
    {
      "cell_type": "code",
      "metadata": {
        "colab": {
          "base_uri": "https://localhost:8080/"
        },
        "id": "WF1IbpL6WAv9",
        "outputId": "16174955-a258-492b-8642-75dbd2bb8d7c"
      },
      "source": [
        "print(lm_1.summary())\n",
        "print(lm_2.summary())\n",
        "print(lm_3.summary())"
      ],
      "execution_count": null,
      "outputs": [
        {
          "output_type": "stream",
          "name": "stdout",
          "text": [
            "                            OLS Regression Results                            \n",
            "==============================================================================\n",
            "Dep. Variable:                  price   R-squared:                       0.686\n",
            "Model:                            OLS   Adj. R-squared:                  0.673\n",
            "Method:                 Least Squares   F-statistic:                     53.12\n",
            "Date:                Wed, 15 Dec 2021   Prob (F-statistic):           4.56e-82\n",
            "Time:                        03:08:12   Log-Likelihood:                 384.40\n",
            "No. Observations:                 381   AIC:                            -736.8\n",
            "Df Residuals:                     365   BIC:                            -673.7\n",
            "Df Model:                          15                                         \n",
            "Covariance Type:            nonrobust                                         \n",
            "===================================================================================\n",
            "                      coef    std err          t      P>|t|      [0.025      0.975]\n",
            "-----------------------------------------------------------------------------------\n",
            "const               0.0603      0.059      1.029      0.304      -0.055       0.176\n",
            "area                0.5745      0.134      4.285      0.000       0.311       0.838\n",
            "bedrooms           -0.0587      0.093     -0.632      0.528      -0.241       0.124\n",
            "bathrooms           0.2336      0.126      1.849      0.065      -0.015       0.482\n",
            "stories             0.1018      0.019      5.265      0.000       0.064       0.140\n",
            "mainroad            0.0511      0.014      3.580      0.000       0.023       0.079\n",
            "guestroom           0.0260      0.014      1.887      0.060      -0.001       0.053\n",
            "basement            0.0208      0.011      1.877      0.061      -0.001       0.043\n",
            "hotwaterheating     0.0875      0.022      4.048      0.000       0.045       0.130\n",
            "airconditioning     0.0663      0.011      5.868      0.000       0.044       0.088\n",
            "parking             0.0562      0.018      3.104      0.002       0.021       0.092\n",
            "prefarea            0.0566      0.012      4.772      0.000       0.033       0.080\n",
            "semi-furnished     -0.0008      0.012     -0.068      0.946      -0.024       0.022\n",
            "unfurnished        -0.0323      0.013     -2.550      0.011      -0.057      -0.007\n",
            "areaperbedroom     -0.3135      0.147     -2.139      0.033      -0.602      -0.025\n",
            "bbratio             0.0439      0.104      0.421      0.674      -0.161       0.249\n",
            "==============================================================================\n",
            "Omnibus:                       87.283   Durbin-Watson:                   2.087\n",
            "Prob(Omnibus):                  0.000   Jarque-Bera (JB):              276.328\n",
            "Skew:                           1.023   Prob(JB):                     9.91e-61\n",
            "Kurtosis:                       6.636   Cond. No.                         82.4\n",
            "==============================================================================\n",
            "\n",
            "Warnings:\n",
            "[1] Standard Errors assume that the covariance matrix of the errors is correctly specified.\n",
            "                            OLS Regression Results                            \n",
            "==============================================================================\n",
            "Dep. Variable:                  price   R-squared:                       0.680\n",
            "Model:                            OLS   Adj. R-squared:                  0.671\n",
            "Method:                 Least Squares   F-statistic:                     71.31\n",
            "Date:                Wed, 15 Dec 2021   Prob (F-statistic):           2.73e-84\n",
            "Time:                        03:08:12   Log-Likelihood:                 380.96\n",
            "No. Observations:                 381   AIC:                            -737.9\n",
            "Df Residuals:                     369   BIC:                            -690.6\n",
            "Df Model:                          11                                         \n",
            "Covariance Type:            nonrobust                                         \n",
            "===================================================================================\n",
            "                      coef    std err          t      P>|t|      [0.025      0.975]\n",
            "-----------------------------------------------------------------------------------\n",
            "const               0.0319      0.015      2.142      0.033       0.003       0.061\n",
            "area                0.3006      0.038      7.851      0.000       0.225       0.376\n",
            "bathrooms           0.2947      0.032      9.132      0.000       0.231       0.358\n",
            "stories             0.1178      0.018      6.654      0.000       0.083       0.153\n",
            "mainroad            0.0488      0.014      3.423      0.001       0.021       0.077\n",
            "guestroom           0.0301      0.014      2.211      0.028       0.003       0.057\n",
            "basement            0.0239      0.011      2.183      0.030       0.002       0.045\n",
            "hotwaterheating     0.0864      0.022      4.014      0.000       0.044       0.129\n",
            "airconditioning     0.0665      0.011      5.895      0.000       0.044       0.089\n",
            "parking             0.0629      0.018      3.501      0.001       0.028       0.098\n",
            "prefarea            0.0596      0.012      5.061      0.000       0.036       0.083\n",
            "unfurnished        -0.0323      0.010     -3.169      0.002      -0.052      -0.012\n",
            "==============================================================================\n",
            "Omnibus:                       97.661   Durbin-Watson:                   2.097\n",
            "Prob(Omnibus):                  0.000   Jarque-Bera (JB):              325.388\n",
            "Skew:                           1.130   Prob(JB):                     2.20e-71\n",
            "Kurtosis:                       6.923   Cond. No.                         13.3\n",
            "==============================================================================\n",
            "\n",
            "Warnings:\n",
            "[1] Standard Errors assume that the covariance matrix of the errors is correctly specified.\n",
            "                            OLS Regression Results                            \n",
            "==============================================================================\n",
            "Dep. Variable:                  price   R-squared:                       0.631\n",
            "Model:                            OLS   Adj. R-squared:                  0.625\n",
            "Method:                 Least Squares   F-statistic:                     106.7\n",
            "Date:                Wed, 15 Dec 2021   Prob (F-statistic):           6.98e-78\n",
            "Time:                        03:08:12   Log-Likelihood:                 353.86\n",
            "No. Observations:                 381   AIC:                            -693.7\n",
            "Df Residuals:                     374   BIC:                            -666.1\n",
            "Df Model:                           6                                         \n",
            "Covariance Type:            nonrobust                                         \n",
            "===================================================================================\n",
            "                      coef    std err          t      P>|t|      [0.025      0.975]\n",
            "-----------------------------------------------------------------------------------\n",
            "const               0.0609      0.011      5.793      0.000       0.040       0.082\n",
            "area                0.3949      0.037     10.537      0.000       0.321       0.469\n",
            "bathrooms           0.3228      0.034      9.565      0.000       0.256       0.389\n",
            "stories             0.1133      0.018      6.271      0.000       0.078       0.149\n",
            "hotwaterheating     0.0995      0.023      4.359      0.000       0.055       0.144\n",
            "airconditioning     0.0774      0.012      6.556      0.000       0.054       0.101\n",
            "prefarea            0.0736      0.012      6.017      0.000       0.050       0.098\n",
            "==============================================================================\n",
            "Omnibus:                       92.802   Durbin-Watson:                   2.129\n",
            "Prob(Omnibus):                  0.000   Jarque-Bera (JB):              318.088\n",
            "Skew:                           1.061   Prob(JB):                     8.47e-70\n",
            "Kurtosis:                       6.941   Cond. No.                         9.11\n",
            "==============================================================================\n",
            "\n",
            "Warnings:\n",
            "[1] Standard Errors assume that the covariance matrix of the errors is correctly specified.\n"
          ]
        }
      ]
    },
    {
      "cell_type": "code",
      "source": [
        "import pickle\n",
        "\n",
        "pickle.dump(lm_3,open('modelmultiple.pkl','wb'))"
      ],
      "metadata": {
        "id": "zLBcPAbEUvIm"
      },
      "execution_count": null,
      "outputs": []
    },
    {
      "cell_type": "code",
      "source": [
        ""
      ],
      "metadata": {
        "id": "ZkC_iO0-6_XD"
      },
      "execution_count": null,
      "outputs": []
    },
    {
      "cell_type": "markdown",
      "metadata": {
        "id": "NtpFzs0fuQQo"
      },
      "source": [
        "We gave you three metric explaination. Now just try to compare these things in all three models.\n",
        "You will see that first model is perfoming better in terms of coefficient, R2 and adjusted r2. Also if you see metrics you calculated for model 1 and model 3, the first model is better there also.\n",
        "\n",
        "\n",
        "So we can finalise that our second model is the best model to solve our problem statement ie.to optimise the sale prices of the properties based on important factors such as area, bedrooms, parking, etc.\n"
      ]
    }
  ]
}